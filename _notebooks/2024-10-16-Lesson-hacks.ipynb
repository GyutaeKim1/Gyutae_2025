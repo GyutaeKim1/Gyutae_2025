{
 "cells": [
  {
   "cell_type": "raw",
   "metadata": {
    "vscode": {
     "languageId": "raw"
    }
   },
   "source": [
    "---\n",
    "layout: post\n",
    "title: Lesson Hacks\n",
    "description: hacks\n",
    "permalink: /lessonhacks/sprint2\n",
    "comments: true\n",
    "---"
   ]
  },
  {
   "cell_type": "markdown",
   "metadata": {
    "vscode": {
     "languageId": "html"
    }
   },
   "source": [
    "[3.1]({{site.baseurl}}/3.1hack/sprint2) | [3.2]({{site.baseurl}}/3.2hack/sprint2) | [3.3]({{site.baseurl}}/3.3hack/sprint2) | [3.4]({{site.baseurl}}/3.4hack/sprint2) | [3.5]({{site.baseurl}}/3.5hack/sprint2) | [3.8]({{site.baseurl}}/3.8hack/sprint2) | [3.10]({{site.baseurl}}/3.10hack/sprint2) |"
   ]
  }
 ],
 "metadata": {
  "language_info": {
   "name": "python"
  }
 },
 "nbformat": 4,
 "nbformat_minor": 2
}
