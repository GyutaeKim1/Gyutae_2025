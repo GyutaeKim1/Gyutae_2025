{
 "cells": [
  {
   "cell_type": "raw",
   "metadata": {
    "vscode": {
     "languageId": "raw"
    }
   },
   "source": [
    "---\n",
    "layout: post\n",
    "title: WeeklyPlan2\n",
    "permalink: /weeklyplan2/sprint2\n",
    "toc: true\n",
    "comments: true\n",
    "---"
   ]
  },
  {
   "cell_type": "markdown",
   "metadata": {
    "vscode": {
     "languageId": "raw"
    }
   },
   "source": [
    "# Week Plan\n",
    "\n",
    "- finish lessons\n",
    "- be creative\n",
    "- add colors\n",
    "- make highlighted boxes\n",
    "- when clicking button on the quiz, when I choose an option, highlight it as green\n",
    "- make it easy to read"
   ]
  },
  {
   "cell_type": "markdown",
   "metadata": {
    "vscode": {
     "languageId": "raw"
    }
   },
   "source": [
    "--------------------------------------------"
   ]
  }
 ],
 "metadata": {
  "language_info": {
   "name": "python"
  }
 },
 "nbformat": 4,
 "nbformat_minor": 2
}
