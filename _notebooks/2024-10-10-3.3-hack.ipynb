{
 "cells": [
  {
   "cell_type": "raw",
   "metadata": {
    "vscode": {
     "languageId": "raw"
    }
   },
   "source": [
    "---\n",
    "layout: post\n",
    "title: 3.3 Hacks\n",
    "description: hacks\n",
    "permalink: /3.3hack/sprint2\n",
    "comments: true\n",
    "---"
   ]
  },
  {
   "cell_type": "markdown",
   "metadata": {},
   "source": [
    "# Popcorn hack 1"
   ]
  },
  {
   "cell_type": "code",
   "execution_count": 10,
   "metadata": {},
   "outputs": [
    {
     "name": "stdout",
     "output_type": "stream",
     "text": [
      "25\n"
     ]
    }
   ],
   "source": [
    "def output(x):\n",
    "    print(2 * (x + 8) - 1)\n",
    "\n",
    "output(5)\n",
    "   "
   ]
  },
  {
   "cell_type": "markdown",
   "metadata": {},
   "source": [
    "# Popcorn hack 2"
   ]
  },
  {
   "cell_type": "code",
   "execution_count": 7,
   "metadata": {},
   "outputs": [
    {
     "name": "stdout",
     "output_type": "stream",
     "text": [
      "50\n"
     ]
    }
   ],
   "source": [
    "number1 = 3\n",
    "number2 = 1\n",
    "number3 = number1 % number2\n",
    "number4 = number3 * number1 + 50\n",
    "print(number4)"
   ]
  },
  {
   "cell_type": "markdown",
   "metadata": {},
   "source": [
    "# Popcorn Hack 3"
   ]
  },
  {
   "cell_type": "code",
   "execution_count": 9,
   "metadata": {},
   "outputs": [
    {
     "name": "stdout",
     "output_type": "stream",
     "text": [
      "The remainder when 1 is divided by 2 is 1\n",
      "2 is divisible by 2\n",
      "The remainder when 3 is divided by 2 is 1\n",
      "4 is divisible by 2\n",
      "The remainder when 5 is divided by 2 is 1\n"
     ]
    }
   ],
   "source": [
    "\n",
    "numbers = [1, 2, 3, 4, 5]\n",
    "\n",
    "for num in numbers:\n",
    "    remainder = num % 2\n",
    "    if remainder == 0:\n",
    "        print(num, \"is divisible by 2\")\n",
    "    else:\n",
    "        print(\"The remainder when\", num, \"is divided by 2 is\", remainder)"
   ]
  },
  {
   "cell_type": "markdown",
   "metadata": {},
   "source": [
    "# HW Hack"
   ]
  },
  {
   "cell_type": "code",
   "execution_count": 12,
   "metadata": {},
   "outputs": [
    {
     "name": "stdout",
     "output_type": "stream",
     "text": [
      "The Fibonacci number at position 5 is 3.\n",
      "The area of the circle is: 50.24\n"
     ]
    }
   ],
   "source": [
    "def fibonacci(n):\n",
    "    a, b = 0, 1\n",
    "    for _ in range(n - 1):\n",
    "        a, b = b, a + b\n",
    "    return a\n",
    "\n",
    "term = int(input(\"Enter the term of the Fibonacci sequence: \"))\n",
    "print(f\"The Fibonacci number at position {term} is {fibonacci(term)}.\")\n",
    "\n",
    "def calculate_area():\n",
    "    shape = input(\"Enter the shape (circle, square, rectangle): \").lower()\n",
    "\n",
    "    if shape == \"circle\":\n",
    "        radius = float(input(\"Enter the radius: \"))\n",
    "        area = 3.14 * radius ** 2\n",
    "    elif shape == \"square\":\n",
    "        side = float(input(\"Enter the side length: \"))\n",
    "        area = side ** 2\n",
    "    elif shape == \"rectangle\":\n",
    "        length = float(input(\"Enter the length: \"))\n",
    "        width = float(input(\"Enter the width: \"))\n",
    "        area = length * width\n",
    "    else:\n",
    "        return \"Invalid shape.\"\n",
    "\n",
    "    print(f\"The area of the {shape} is: {area}\")\n",
    "\n",
    "calculate_area()\n"
   ]
  },
  {
   "cell_type": "markdown",
   "metadata": {},
   "source": [
    "# Challenge"
   ]
  },
  {
   "cell_type": "code",
   "execution_count": 13,
   "metadata": {},
   "outputs": [
    {
     "name": "stdout",
     "output_type": "stream",
     "text": [
      "The volume of the sphere is: 523.60\n"
     ]
    }
   ],
   "source": [
    "import math\n",
    "\n",
    "def calculate_volume():\n",
    "    shape = input(\"Enter the shape (rectangular prism, sphere, pyramid): \").lower()\n",
    "\n",
    "    if shape == \"rectangular prism\":\n",
    "        length = float(input(\"Enter the length: \"))\n",
    "        width = float(input(\"Enter the width: \"))\n",
    "        height = float(input(\"Enter the height: \"))\n",
    "        volume = length * width * height\n",
    "\n",
    "    elif shape == \"sphere\":\n",
    "        radius = float(input(\"Enter the radius: \"))\n",
    "        volume = (4/3) * math.pi * radius ** 3\n",
    "\n",
    "    elif shape == \"pyramid\":\n",
    "        base_area = float(input(\"Enter the base area: \"))\n",
    "        height = float(input(\"Enter the height: \"))\n",
    "        volume = (1/3) * base_area * height\n",
    "\n",
    "    else:\n",
    "        return \"Invalid shape.\"\n",
    "\n",
    "    print(f\"The volume of the {shape} is: {volume:.2f}\")\n",
    "\n",
    "calculate_volume()\n"
   ]
  }
 ],
 "metadata": {
  "kernelspec": {
   "display_name": "venv",
   "language": "python",
   "name": "python3"
  },
  "language_info": {
   "codemirror_mode": {
    "name": "ipython",
    "version": 3
   },
   "file_extension": ".py",
   "mimetype": "text/x-python",
   "name": "python",
   "nbconvert_exporter": "python",
   "pygments_lexer": "ipython3",
   "version": "3.12.3"
  }
 },
 "nbformat": 4,
 "nbformat_minor": 2
}
