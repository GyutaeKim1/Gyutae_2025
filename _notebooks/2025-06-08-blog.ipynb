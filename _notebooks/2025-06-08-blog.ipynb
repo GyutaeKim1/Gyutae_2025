{
 "cells": [
  {
   "cell_type": "markdown",
   "id": "f78a9ff2",
   "metadata": {},
   "source": [
    "---\n",
    "layout: post\n",
    "title: Blog for final - Gyutae Kim\n",
    "comments: true\n",
    "---"
   ]
  },
  {
   "cell_type": "markdown",
   "id": "28cebc2d",
   "metadata": {},
   "source": [
    "### Overview\n",
    "\n",
    "-Our Project: Redesign, Improve student_2026 starter repo\n",
    "\n",
    "-My Unique qualities: Teamwork, communication skill, effort. I work with my teammates and communicate a lot. For example, as we start to commit, we divide our parts and integrate to one so that the website doesn't break. I also try to solve any problems by myself instead of asking for help right away when there is a problem.\n",
    "\n",
    "\n",
    "### Dashboard\n",
    "\n",
    "![Image](https://github.com/user-attachments/assets/bf9c02cd-4c92-4c43-b9ed-0cbb2d6c54bf)\n",
    "\n",
    "### N@tM Reflection\n",
    "\n",
    "This is some feedbacks we got from the N@GyutaeKim\n",
    "\n",
    "![Image](https://github.com/user-attachments/assets/d5bde29b-1c43-4f17-aae9-2f7f5d76b5b0)\n",
    "\n",
    "This is pic of me\n",
    "\n",
    "![Image](https://github.com/user-attachments/assets/52b76865-cc90-4157-8650-8fc63cc9e2f9)\n",
    "![Image](https://github.com/user-attachments/assets/a3f65f12-b394-42bc-878f-4dc5c737fcdf)\n",
    "![Image](https://github.com/user-attachments/assets/51b229a7-7b92-4a03-9e7e-85cce640e6ba)\n",
    "\n",
    "We showcased our project in N@tM by first explaining the purpose of our project. The purpose is to make a demo website for future students to use for their portfolio. All the projects, email, linkedin, resume, and more are in the repository, so it is easier for them to switch. We also have theme switching logic for students to easily switch the theme. Tailwind is integrated in the student_2026 repo. There are also lessons and other features for students to study with good tools.\n",
    "\n",
    "### Grade Predictor\n",
    "\n",
    "![Image](https://github.com/user-attachments/assets/0f4874f7-6875-48df-b8d6-4f0fcaa19e01)\n",
    "\n"
   ]
  }
 ],
 "metadata": {
  "language_info": {
   "name": "python"
  }
 },
 "nbformat": 4,
 "nbformat_minor": 5
}
