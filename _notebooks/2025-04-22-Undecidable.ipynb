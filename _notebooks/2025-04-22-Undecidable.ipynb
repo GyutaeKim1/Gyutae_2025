{
 "cells": [
  {
   "cell_type": "markdown",
   "id": "260c9fb9",
   "metadata": {},
   "source": [
    "---\n",
    "layout: post\n",
    "title: Undecidable and Decidable Problems in Computer Science / Graphs & Heuristics\n",
    "comments: true\n",
    "---"
   ]
  },
  {
   "cell_type": "markdown",
   "id": "b5bce3e5",
   "metadata": {},
   "source": [
    "### Popcorn Hack 1\n",
    "\n",
    "False\n",
    "\n",
    "### Popcorn Hack 2\n",
    "\n",
    "True\n",
    "\n",
    "### Popcorn Hack 3\n",
    "Answer: D\n",
    "\n",
    "### HW Hack\n",
    "\n",
    "Modern operating systems and web browsers use built-in safeguards to detect and handle infinite loops or long-running scripts. Operating systems rely on multitasking and resource limits to prevent any single process from freezing the system, while browsers like Chrome and Firefox stop unresponsive scripts and show warnings such as “Page Unresponsive.” Web Workers and async programming help keep pages responsive, and isolated browser tabs prevent crashes from affecting the whole session. These mechanisms work together to maintain performance and stability."
   ]
  },
  {
   "cell_type": "markdown",
   "id": "1bd0158a",
   "metadata": {},
   "source": [
    "# Graphs & Heuristics"
   ]
  },
  {
   "cell_type": "markdown",
   "id": "4c5128dd",
   "metadata": {},
   "source": [
    "### Popcorn Hack 1\n",
    "\n",
    "False\n",
    "\n",
    "### Popcorn Hack 2\n",
    "\n",
    "True\n",
    "\n",
    "### Popcorn Hack 3\n",
    "\n",
    "True\n",
    "\n",
    "### HW Hack\n",
    "\n",
    "Social Network Analysis (SNA) uses graph theory to study relationships on social media. In these graphs, users are nodes, and relationships (like follows or friendships) are edges. Edges can be directed (e.g., Twitter follows) or undirected (e.g., Facebook friendships), and may include weights to show interaction strength.\n",
    "\n",
    "A real-world example is Facebook, which uses a “social graph” to connect users. This graph helps with friend recommendations, content filtering, and detecting fake accounts. Graph theory allows platforms to understand and manage complex user interactions efficiently."
   ]
  }
 ],
 "metadata": {
  "language_info": {
   "name": "python"
  }
 },
 "nbformat": 4,
 "nbformat_minor": 5
}
