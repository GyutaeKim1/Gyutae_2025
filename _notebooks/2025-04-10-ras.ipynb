{
 "cells": [
  {
   "cell_type": "markdown",
   "id": "062b7b38",
   "metadata": {},
   "source": [
    "---\n",
    "layout: post\n",
    "title: Random Algorithms and Simulation Games - Gyutae KIm\n",
    "comments: true\n",
    "---"
   ]
  },
  {
   "cell_type": "markdown",
   "id": "f03ca216",
   "metadata": {},
   "source": [
    "### Popcorn Hack #1: Brainstorm\n",
    "\n",
    "What is a random algorithm?\n",
    "A random algorithm uses randomness or probabilistic behavior to solve problems, often relying on random number generation.\n",
    "\n",
    "Why use random algorithms in real-life coding?\n",
    "They are useful for simulations, cryptography, gaming, and optimization problems where unpredictability or approximation is needed.\n",
    "\n",
    "What questions might College Board ask?\n",
    "\n",
    "Define random algorithms and give examples.\n",
    "Explain their real-world applications.\n",
    "Compare random and deterministic algorithms."
   ]
  },
  {
   "cell_type": "markdown",
   "id": "5f80ee24",
   "metadata": {},
   "source": [
    "### Popcorn HAck 2"
   ]
  },
  {
   "cell_type": "code",
   "execution_count": null,
   "id": "224112ba",
   "metadata": {},
   "outputs": [
    {
     "name": "stdout",
     "output_type": "stream",
     "text": [
      "Today’s random activity: Try a new workout\n"
     ]
    }
   ],
   "source": [
    "import random\n",
    "\n",
    "# Step 1: Define a list of activities\n",
    "activities = [\n",
    "    'Play a board game', \n",
    "    'Go hiking', \n",
    "    'Bake cookies', \n",
    "    'Learn a new programming language', \n",
    "    'Do yoga', \n",
    "    'Paint or draw', \n",
    "    'Organize your room', \n",
    "    'Watch a documentary', \n",
    "    'Try a new workout', \n",
    "    'Write a short story', \n",
    "    'Plan your next vacation'\n",
    "]\n",
    "\n",
    "# Step 2: Randomly choose an activity\n",
    "random_activity = random.choice(activities)\n",
    "\n",
    "# Step 3: Display the chosen activity\n",
    "print(f\"Today’s random activity: {random_activity}\")"
   ]
  },
  {
   "cell_type": "markdown",
   "id": "ce00aafe",
   "metadata": {},
   "source": [
    "### Popcorn Hack 3"
   ]
  },
  {
   "cell_type": "code",
   "execution_count": 4,
   "id": "9bd7ea8c",
   "metadata": {},
   "outputs": [
    {
     "name": "stdout",
     "output_type": "stream",
     "text": [
      "Rayhaan will be monitoring music!\n",
      "Gyutae will be monitoring food!\n",
      "Derek will be monitoring games!\n"
     ]
    }
   ],
   "source": [
    "import random\n",
    "# Step 1: Define the list of hosts and activities\n",
    "hosts = ['Rayhaan','Gyutae','Derek']\n",
    "activities = ['music', 'food', 'decorations', 'games', 'movies']\n",
    "# Step 2: Randomly shuffle the list of activities\n",
    "random.shuffle(activities)\n",
    "# Step 3: Loop through each host and assign them a random activity\n",
    "for i in range(len(hosts)):\n",
    "    print(f\"{hosts[i]} will be monitoring {activities[i]}!\")"
   ]
  },
  {
   "cell_type": "markdown",
   "id": "04790f6f",
   "metadata": {},
   "source": [
    "### MCQ \n",
    "\n",
    "Analyzing Code Segments\n",
    "RNG\n",
    "\n",
    "\n",
    "Answer: C\n",
    "3 isn't a possible choice for the first iteration\n",
    "pick is only going to be from 1 to 2 on the first time since i is 2\n",
    "Science experiment with 75 percent successful trials\n",
    "In a certain science experiment, 75 percent of trials are expected to be successful and 25 percent of trials are expected to be unsuccessful. The program below is intended to simulate the results of repeated trials of the experiment.\n",
    "\n",
    "successful ← 0\n",
    "unsuccessful ← 0\n",
    "REPEAT 1000 TIMES\n",
    "{\n",
    "    IF (<MISSING CODE>)\n",
    "    {\n",
    "        successful ← successful + 1\n",
    "    }\n",
    "    ELSE\n",
    "    {\n",
    "        unsuccessful ← unsuccessful + 1\n",
    "    }\n",
    "}\n",
    "DISPLAY(successful)\n",
    "DISPLAY(\"trials were successful,\")\n",
    "DISPLAY(unsuccessful)\n",
    "DISPLAY(\"trials were unsuccessful.\")\n",
    "Which of the following can be used to replace < MISSING CODE > so that the simulation works as intended?\n",
    "A: RANDOM, open parenthesis 1 comma 100, close parenthesis, equals 25\n",
    "B: RANDOM, open parenthesis 1 comma 100, close parenthesis, is less than or equal to 25\n",
    "C: RANDOM, open parenthesis 1 comma 100, close parenthesis, equals 75\n",
    "D: RANDOM, open parenthesis 1 comma 100, close parenthesis, is less than or equal to 75\n",
    "\n",
    "Answer: D\n",
    "This option causes the experiment to be successful when RANDOM, open parenthesis 1 comma 100, close parenthesis produces a result from 1 to 75, or 75% of the time."
   ]
  },
  {
   "cell_type": "markdown",
   "id": "8f1ac24d",
   "metadata": {},
   "source": [
    "## Random Algorithms"
   ]
  },
  {
   "cell_type": "markdown",
   "id": "eeeb5206",
   "metadata": {},
   "source": [
    "### Popcorn HAck 1\n",
    "\n"
   ]
  },
  {
   "cell_type": "code",
   "execution_count": 5,
   "id": "b2286360",
   "metadata": {},
   "outputs": [
    {
     "name": "stdout",
     "output_type": "stream",
     "text": [
      "The spinner landed on: 15\n"
     ]
    }
   ],
   "source": [
    "# Number Spinner Simulation\n",
    "import random\n",
    "\n",
    "# Define the range of numbers for the spinner\n",
    "spinner_range = list(range(1, 21))  # Spinner with numbers from 1 to 20\n",
    "\n",
    "# Randomly select a number from the spinner\n",
    "spun_number = random.choice(spinner_range)\n",
    "\n",
    "# Display the result\n",
    "print(f\"The spinner landed on: {spun_number}\")"
   ]
  },
  {
   "cell_type": "markdown",
   "id": "ec922f5c",
   "metadata": {},
   "source": [
    "### Popcorn Hack 2"
   ]
  },
  {
   "cell_type": "code",
   "execution_count": 6,
   "id": "aef9ace4",
   "metadata": {},
   "outputs": [
    {
     "name": "stdout",
     "output_type": "stream",
     "text": [
      "Computer chose: scissors\n",
      "You chose: rock\n",
      "You win!\n"
     ]
    }
   ],
   "source": [
    "import random\n",
    "\n",
    "def play_rock_paper_scissors():\n",
    "    choices = ['rock', 'paper', 'scissors']\n",
    "    computer_choice = random.choice(choices)\n",
    "    user_choice = input(\"Enter your choice (rock, paper, or scissors): \")\n",
    "\n",
    "    if user_choice not in choices:\n",
    "        print(\"Invalid choice. Please try again.\")\n",
    "        return\n",
    "\n",
    "    print(\"Computer chose:\", computer_choice)\n",
    "    print(\"You chose:\", user_choice)\n",
    "\n",
    "    if user_choice == computer_choice:\n",
    "        print(\"It's a tie!\")\n",
    "    elif (user_choice == 'rock' and computer_choice == 'scissors') or (user_choice == 'paper' and computer_choice == 'rock') or (user_choice == 'scissors' and computer_choice == 'paper'):\n",
    "        print(\"You win!\")\n",
    "    else:\n",
    "        print(\"You lose!\")\n",
    "\n",
    "play_rock_paper_scissors()"
   ]
  },
  {
   "cell_type": "markdown",
   "id": "82662f63",
   "metadata": {},
   "source": [
    "### MCQ \n",
    "\n",
    "Which of the following strategies is LEAST likely to provide a more accurate prediction?\n",
    "A: Gathering data for additional years to try to identify patterns in birth rates\n",
    "B: Refining the model used in the computer simulation to more closely reflect the data from the past ten years\n",
    "C: Removing as many details from the model as possible so that calculations can be performed quickly\n",
    "D: Taking into consideration more information about the community, such as the ages of residents\n",
    "\n",
    "Answer: C\n",
    "Removing details from the model may help it run quickly, but is unlikely to provide more accurate results.\n",
    "Mouse and Predator Simulations\n",
    "A researcher wrote a program to simulate the number of mice in an environment that contains predators. The program uses the following procedures.\n",
    "\n",
    "Procedure Call\tExplanation\n",
    "InitialMousePopulation()\tReturns the number of mice at the start of the simulation\n",
    "InitialPredatorPopulation()\tReturns the number of predators at the start of the simulation\n",
    "NextDayPopulation(numberOfMice, numberOfPredators)\tBased on the current numbers of mice and predators, returns the number of mice after one day\n",
    "Code for the simulation is shown below.\n",
    "days ← 0\n",
    "numMice ← InitialMousePopulation()\n",
    "numPredators ← InitialPredatorPopulation()\n",
    "REPEAT UNTIL (days = 365)\n",
    "{\n",
    "    numMice ← NextDayPopulation(numMice, numPredators)\n",
    "    days ← days + 1\n",
    "}\n",
    "DISPLAY(\"There are\")\n",
    "DISPLAY(numMice)\n",
    "DISPLAY(\"mice after one year.\")\n",
    "Based on the code, which of the following assumptions is made in the simulation?\n",
    "A: The number of mice increases by 1 each day.\n",
    "B: The number of mice does not change from day to day.\n",
    "C: The number of predators increases by 1 each day.\n",
    "D: The number of predators does not change from day to day.\n",
    "\n",
    "Answer: D\n",
    "The number of predators is initialized at the beginning of the program but is never updated."
   ]
  },
  {
   "cell_type": "markdown",
   "id": "bec70c87",
   "metadata": {},
   "source": [
    "### HW Hack 1"
   ]
  },
  {
   "cell_type": "code",
   "execution_count": 7,
   "id": "2000180c",
   "metadata": {},
   "outputs": [
    {
     "name": "stdout",
     "output_type": "stream",
     "text": [
      "Team Phoenix: Alice, Grace, Hank, Leo, Nina\n",
      "Team Dragon: Charlie, Eve, Ivy, Jack, Mona, Oscar\n",
      "Team Griffin: Bob, Diana, Frank, Karen\n"
     ]
    }
   ],
   "source": [
    "import random\n",
    "\n",
    "# Step 1: Define the list of students and team names\n",
    "students = [\n",
    "    \"Alice\", \"Bob\", \"Charlie\", \"Diana\", \"Eve\", \n",
    "    \"Frank\", \"Grace\", \"Hank\", \"Ivy\", \"Jack\", \n",
    "    \"Karen\", \"Leo\", \"Mona\", \"Nina\", \"Oscar\"\n",
    "]\n",
    "teams = [\"Team Phoenix\", \"Team Dragon\", \"Team Griffin\"]\n",
    "\n",
    "# Step 2: Create a dictionary to store team assignments\n",
    "team_assignments = {team: [] for team in teams}\n",
    "\n",
    "# Step 3: Randomly assign each student to a team\n",
    "for student in students:\n",
    "    assigned_team = random.choice(teams)\n",
    "    team_assignments[assigned_team].append(student)\n",
    "\n",
    "# Step 4: Print out the list of students and their assigned teams\n",
    "for team, members in team_assignments.items():\n",
    "    print(f\"{team}: {', '.join(members)}\")"
   ]
  },
  {
   "cell_type": "markdown",
   "id": "45d8b813",
   "metadata": {},
   "source": [
    "### HW hack 2"
   ]
  },
  {
   "cell_type": "code",
   "execution_count": 8,
   "id": "e5d885e8",
   "metadata": {},
   "outputs": [
    {
     "name": "stdout",
     "output_type": "stream",
     "text": [
      "7-Day Weather Forecast:\n",
      "Day 1: Rainy\n",
      "Day 2: Cloudy\n",
      "Day 3: Sunny\n",
      "Day 4: Sunny\n",
      "Day 5: Sunny\n",
      "Day 6: Sunny\n",
      "Day 7: Cloudy\n"
     ]
    }
   ],
   "source": [
    "import random\n",
    "\n",
    "# Step 1: Define the possible weather types\n",
    "weather_types = [\"Sunny\", \"Cloudy\", \"Rainy\"]\n",
    "\n",
    "# Step 2: Generate random weather for 7 days\n",
    "forecast = [random.choice(weather_types) for _ in range(7)]\n",
    "\n",
    "# Step 3: Print the weather for each day\n",
    "print(\"7-Day Weather Forecast:\")\n",
    "for day, weather in enumerate(forecast, start=1):\n",
    "    print(f\"Day {day}: {weather}\")"
   ]
  },
  {
   "cell_type": "markdown",
   "id": "2614a74b",
   "metadata": {},
   "source": [
    "### HW HAck 3"
   ]
  },
  {
   "cell_type": "code",
   "execution_count": 9,
   "id": "33349f1a",
   "metadata": {},
   "outputs": [
    {
     "name": "stdout",
     "output_type": "stream",
     "text": [
      "Coffee Shop Queue Simulation:\n",
      "Customer 1 is being served. Service time: 2 minutes.\n",
      "Customer 2 is being served. Service time: 5 minutes.\n",
      "Customer 3 is being served. Service time: 3 minutes.\n",
      "Customer 4 is being served. Service time: 1 minutes.\n",
      "Customer 5 is being served. Service time: 4 minutes.\n",
      "\n",
      "Total time to serve all customers: 15 minutes.\n"
     ]
    }
   ],
   "source": [
    "import random\n",
    "\n",
    "# Step 1: Define the number of customers and their random service times\n",
    "customers = [\"Customer 1\", \"Customer 2\", \"Customer 3\", \"Customer 4\", \"Customer 5\"]\n",
    "service_times = [random.randint(1, 5) for _ in customers]\n",
    "\n",
    "# Step 2: Simulate serving customers and calculate total time\n",
    "total_time = 0\n",
    "print(\"Coffee Shop Queue Simulation:\")\n",
    "for i, customer in enumerate(customers):\n",
    "    service_time = service_times[i]\n",
    "    total_time += service_time\n",
    "    print(f\"{customer} is being served. Service time: {service_time} minutes.\")\n",
    "\n",
    "# Step 3: Print the total time for all customers to be served\n",
    "print(f\"\\nTotal time to serve all customers: {total_time} minutes.\")"
   ]
  }
 ],
 "metadata": {
  "kernelspec": {
   "display_name": "Python 3",
   "language": "python",
   "name": "python3"
  },
  "language_info": {
   "codemirror_mode": {
    "name": "ipython",
    "version": 3
   },
   "file_extension": ".py",
   "mimetype": "text/x-python",
   "name": "python",
   "nbconvert_exporter": "python",
   "pygments_lexer": "ipython3",
   "version": "3.12.3"
  }
 },
 "nbformat": 4,
 "nbformat_minor": 5
}
