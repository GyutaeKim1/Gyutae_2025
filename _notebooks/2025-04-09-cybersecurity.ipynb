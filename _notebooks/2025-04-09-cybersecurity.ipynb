{
 "cells": [
  {
   "cell_type": "markdown",
   "id": "6445ab3a",
   "metadata": {},
   "source": [
    "---\n",
    "layout: post\n",
    "title: Cybersecurity Panel Reflection - Gyutae KIm\n",
    "comments: true\n",
    "---"
   ]
  },
  {
   "cell_type": "markdown",
   "id": "af40d85f",
   "metadata": {},
   "source": [
    "### What I Learned About Cybersecurity\n",
    "\n",
    "- Cybersecurity is about protecting systems, networks, and data from unauthorized access, attacks, or damage. It's not just about stopping hackers—it's about building secure systems and staying one step ahead of potential threats.\n",
    "\n",
    "- Real-world threats are serious and constant. For example, hackers might try to steal sensitive data from a company. If that happens, the company can lose money, trust, and important information. The best response is to report it quickly and move the data to a more secure location.\n",
    "\n",
    "- A zero-day vulnerability is a major risk. It’s a flaw in software or hardware that the developers don’t know about yet, which means there's no fix. Hackers can take advantage of these gaps before anyone has a chance to patch them.\n",
    "\n",
    "- Ethical challenges are common in cybersecurity. Professionals must make tough decisions, like balancing a user’s privacy against public safety. These situations require clear thinking and a strong understanding of values and responsibilities.\n",
    "\n",
    "- Cybersecurity careers require more than just tech skills. While understanding code and systems is important, things like leadership, communication, and teamwork matter just as much. You need to be someone people can work with, especially during high-stress situations.\n",
    "\n",
    "- It’s okay not to know everything at first. Cybersecurity has a steep learning curve. Being open to learning and admitting when you don’t know something is how you grow. The best professionals keep improving every day.\n",
    "\n",
    "- Students should start by understanding the basics of computer science. Before diving into complex topics, it's important to learn the fundamentals. Real-world experience, like internships or mentorship, helps build confidence and skill.\n",
    "\n",
    "- Soft skills are key. One of the biggest challenges in the field is communicating technical problems to non-technical people, like business leaders. You need to explain cybersecurity risks in plain language so they understand the importance.\n",
    "\n",
    "- Cybersecurity is always evolving. AI and new technologies are constantly changing the field. Staying updated through research and reading is necessary to keep up and be effective.\n",
    "\n",
    "- The future of cybersecurity is wide open. Every industry is beginning to prioritize cybersecurity. While big companies have invested in it, smaller companies are just starting to catch up. This creates opportunities for people with the right skills.\n",
    "\n",
    "- Relationships matter. Knowing people in the field, finding mentors, and learning from others can open doors and create job opportunities. Being a people person can take you far.\n",
    "\n",
    "- I learned that working with group of 4 or 6 helps us prepare for the future because we often have to work with other people when we work. This helps us get ahead and grow skills of working together. \n",
    "\n",
    "![Image](https://github.com/user-attachments/assets/94639b8a-f7f6-4e47-8788-6ae8a98f5d2e)\n"
   ]
  }
 ],
 "metadata": {
  "language_info": {
   "name": "python"
  }
 },
 "nbformat": 4,
 "nbformat_minor": 5
}
