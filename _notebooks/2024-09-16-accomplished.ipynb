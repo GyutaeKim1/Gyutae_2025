{
 "cells": [
  {
   "cell_type": "raw",
   "metadata": {
    "vscode": {
     "languageId": "raw"
    }
   },
   "source": [
    "---\n",
    "layout: post\n",
    "title: Planning Document\n",
    "description: planning document\n",
    "categories: [Python]\n",
    "permalink: /plans/sprint1\n",
    "toc: true\n",
    "comments: true\n",
    "---"
   ]
  },
  {
   "cell_type": "markdown",
   "metadata": {},
   "source": [
    "Although I attempted to change the color of the buttons on top and the title Gyutae Home, I couldn't figure out how to do them. Also, I tried to make a button that says theme-swither, so that I can change the theme, but I couldn't do it. I added the button and put the theme in the _sass folder and then add the code to js, I still couldn't figure out. I actually made a blog post. At first, I had trouble making it, but then I found out that I need to make a .md file in _posts foler and then add the _layouts .html file theme into the blog. For emoji, I attempted to make an emoji in the python cell. At first, it said external error. I tried again from the beginning, I succesfully made the emoji. \n",
    "\n",
    "Week 1 plan: Finish the setup\n",
    "Week 2 plan: Work on frontend and design website\n",
    "Week 3: Make games and add new features to the website.\n",
    "Week 4: Add itune and organize the notebook."
   ]
  },
  {
   "cell_type": "markdown",
   "metadata": {},
   "source": [
    "This week, I am planning to make a rock paper scissors game and add more description to my about page so that I can go above and beyond. "
   ]
  }
 ],
 "metadata": {
  "language_info": {
   "name": "python"
  }
 },
 "nbformat": 4,
 "nbformat_minor": 2
}
