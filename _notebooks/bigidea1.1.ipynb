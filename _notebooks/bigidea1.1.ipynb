{
 "cells": [
  {
   "cell_type": "raw",
   "metadata": {
    "vscode": {
     "languageId": "raw"
    }
   },
   "source": [
    "---\n",
    "layout: post\n",
    "title: Big Idea 1.1 \n",
    "description: Big Idea 1.1 Collaboration\n",
    "comments: true\n",
    "---"
   ]
  },
  {
   "cell_type": "markdown",
   "metadata": {},
   "source": [
    "How does collaboration improve computing innovations?\n",
    "Working together brings different skills and viewpoints that contribute to making better computing ideas. For example, team members might have dispersed talents in design, development, or user experience that combine to bring out a complete product. Disdispersed viewpoints also help decrease bias and hence make the innovation work for a wide scope of subjects.\n",
    "\n",
    "Why would good teamwork create a computer innovation that exhibits the different skills and backgrounds of the individuals who made it?\n",
    "When people of different backgrounds come together to work, they bring ideas and strengths with them. The variety helps the final product include all the different kinds of skills that each member brings, such as technical know-how, creativity, and understanding of cultures, making it more inclusive and effective in innovation.\n",
    "\n",
    "How does collaboration across varied perspectives help avoid bias in development?\n",
    "Diverse opinions will expose that part of the project that may not have been noticed using just one single viewpoint. Such diverse opinions in development help in the early detection and management of potential biases. This prevents unintended biases that would alienate some users or narrow the effectiveness of the innovation.\n",
    "\n",
    "Explain how computing innovations are improved through collaboration (rephrased for further clarity).\n",
    "Working together opens up space for their team members to share ideas, review designs, and create features in a more collaborative manner. By working together, they can find problems much faster, consider alternative solutions, and improve it in areas that a single person may miss.\n",
    "\n",
    "How does the Think-Pair-Share model support collaboration?\n",
    "Think-Pair-Share lets students think through a problem individually, share in pairs, and then contribute to the larger group. The model allows for individual creativity, paired collaboration of ideas for deeper understanding, and collective input, thus enhancing the quality of the innovation by building in feedback at each stage.\n",
    "\n",
    "How does pair programming support collaboration?\n",
    "Pair programming lets two programmers work together on features and ideas. One person usually writes the code (the driver), while the other checks it (the observer or navigator), giving quick feedback and suggestions. This teamwork improves the quality of the code and helps solve problems faster. \n",
    "\n",
    "How do online tools support collaboration? Online tools such as Slack make communication easy for developers; they can share ideas and provide feedback in real time, regardless of the location. These tools enhance collaboration, smoothen project updates, and ensure that everyone is on the same page regarding goals and deadlines. We used google docs and canva to organize and create ideas. \n",
    "\n",
    "What are effective communication skills when collaborating, and why are they important?\n",
    "\n",
    "Important social skills for working together are: Communication: Makes sure everyone knows the project goals and their own roles. Consensus Building: Assists the team in making decisions together, which boosts commitment to the project. Conflict Resolution: Addresses and resolves disagreements constructively to keep the team focused. Negotiation: Balances competing views and reaches a mutually acceptable solution. These skills help make a good working environment, which allows for easier teamwork and a better final product. I used group chat, google docs, and slack to communicate with my team makes. "
   ]
  }
 ],
 "metadata": {
  "language_info": {
   "name": "python"
  }
 },
 "nbformat": 4,
 "nbformat_minor": 2
}
