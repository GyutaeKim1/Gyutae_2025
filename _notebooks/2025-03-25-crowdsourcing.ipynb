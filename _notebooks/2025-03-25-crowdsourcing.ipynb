{
 "cells": [
  {
   "cell_type": "markdown",
   "metadata": {},
   "source": [
    "---\n",
    "layout: post\n",
    "title: Crowdsourcing in Computing - Gyutae KIm\n",
    "comments: true\n",
    "---"
   ]
  },
  {
   "cell_type": "markdown",
   "metadata": {},
   "source": [
    "\n",
    "### Popcorn Hack 2\n",
    "\n",
    "Crowdsourcing is not always reliable because the information provided can be biased, incomplete, or inaccurate, as it depends on the knowledge and intentions of the contributors. Without proper moderation or fact-checking, misinformation can spread easily.\n",
    "\n",
    "### MCQ\n",
    "\n",
    "Answer: C, Crowdsourcing involves obtaining input from a large group.\n",
    "\n",
    "### Popcorn Hack 3\n",
    "\n",
    "\n",
    "An example of crowdsourcing is Reddit. Reddit is a platform where users contribute by posting questions, sharing knowledge, and engaging in discussions across various communities (subreddits). It uses crowdsourcing by relying on its large user base to provide diverse perspectives, solutions, and content, making it a hub for collective knowledge and experiences. Also, a large group of people are involved in sharing their thoughts, or any other informations. \n",
    "\n",
    "### HW Hack\n",
    "\n",
    "Crowdsourcing improves the playlist quality by introducing a wide variety of pop songs from different contributors, which can make the playlist more diverse and enjoyable. However, it can harm the quality if contributors add songs that don't fit the theme or if there is no moderation to ensure the playlist stays consistent and relevant.\n",
    "\n",
    "1. *Blinding Lights* by The Weeknd  \n",
    "2. *Levitating* by Dua Lipa  "
   ]
  }
 ],
 "metadata": {
  "language_info": {
   "name": "python"
  }
 },
 "nbformat": 4,
 "nbformat_minor": 2
}
