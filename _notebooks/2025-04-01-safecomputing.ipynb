{
 "cells": [
  {
   "cell_type": "markdown",
   "metadata": {},
   "source": [
    "---\n",
    "layout: post\n",
    "title: Safe Computing - Gyutae KIm\n",
    "comments: true\n",
    "---"
   ]
  },
  {
   "cell_type": "markdown",
   "metadata": {},
   "source": [
    "### Popcorn Hack: Identify PII\n",
    "\n",
    "A. Fingerprint\n",
    "\n",
    "### Pop Quiz: Multifactor Authentication\n",
    "\n",
    "D. A username required to log in.\n",
    "\n",
    "###  Popcorn Hack: Encryption Quiz\n",
    "\n",
    "B. Finn and Gwen develop a system that maps each letter of the alphabet to a unique symbol using a secret key. Finn uses the key to write a message to Gwen where each letter is replaced with the corresponding symbol. Gwen uses the key to map each symbol back to the original letter.\n",
    "\n",
    "### Popcorn Hack: Password Security\n",
    "\n",
    "password: 2mY2ya]K$+F_mLS^2\n",
    "\n",
    "explanation: A good password is one that is strong, unique, and difficult to guess. It should be at least 12-16 characters long and include a combination of uppercase and lowercase letters, numbers, and special symbols to increase its complexity. A strong password should also avoid common words, predictable patterns, or personal information such as birthdates or names, as these can be easily guessed or cracked by attackers. Additionally, using a different password for each account is important to prevent a security breach on one platform from compromising multiple accounts."
   ]
  }
 ],
 "metadata": {
  "language_info": {
   "name": "python"
  }
 },
 "nbformat": 4,
 "nbformat_minor": 2
}
