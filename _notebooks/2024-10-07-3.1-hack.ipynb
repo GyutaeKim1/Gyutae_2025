{
 "cells": [
  {
   "cell_type": "code",
   "execution_count": 5,
   "metadata": {},
   "outputs": [
    {
     "name": "stdout",
     "output_type": "stream",
     "text": [
      "['London', 'San Diego', 'Chelsea']\n",
      "{'Chelsea', 'London', 'San Diego'}\n",
      "I want to visit London, I live in San Diego, and my favorite soccer club is Chelsea\n"
     ]
    }
   ],
   "source": [
    "var1 = input(\"Where do you want to visit?:\")\n",
    "var2 = input(\"Where do you live?:\")\n",
    "var3 = input(\"What is your favorite soccer club?:\")\n",
    "\n",
    "my_list = [var1, var2, var3]\n",
    "\n",
    "my_dict = {\n",
    "    var1,\n",
    "    var2,\n",
    "    var3\n",
    "}\n",
    "\n",
    "print(my_list)\n",
    "print(my_dict)\n",
    "\n",
    "print(\"I want to visit \" + var1 + \", I live in \" +  var2 + \", and my favorite soccer club is \" + var3)"
   ]
  }
 ],
 "metadata": {
  "kernelspec": {
   "display_name": "venv",
   "language": "python",
   "name": "python3"
  },
  "language_info": {
   "codemirror_mode": {
    "name": "ipython",
    "version": 3
   },
   "file_extension": ".py",
   "mimetype": "text/x-python",
   "name": "python",
   "nbconvert_exporter": "python",
   "pygments_lexer": "ipython3",
   "version": "3.12.3"
  }
 },
 "nbformat": 4,
 "nbformat_minor": 2
}
