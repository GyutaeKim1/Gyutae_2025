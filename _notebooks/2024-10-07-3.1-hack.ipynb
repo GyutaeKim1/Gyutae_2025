{
 "cells": [
  {
   "cell_type": "raw",
   "metadata": {
    "vscode": {
     "languageId": "raw"
    }
   },
   "source": [
    "---\n",
    "layout: post\n",
    "title: 3.1 Hacks\n",
    "description: hacks\n",
    "permalink: /3.1hack/sprint2\n",
    "comments: true\n",
    "---"
   ]
  },
  {
   "cell_type": "markdown",
   "metadata": {},
   "source": [
    "# 3.1 Popcorn Hack"
   ]
  },
  {
   "cell_type": "code",
   "execution_count": 5,
   "metadata": {},
   "outputs": [
    {
     "name": "stdout",
     "output_type": "stream",
     "text": [
      "['London', 'San Diego', 'Chelsea']\n",
      "{'Chelsea', 'London', 'San Diego'}\n",
      "I want to visit London, I live in San Diego, and my favorite soccer club is Chelsea\n"
     ]
    }
   ],
   "source": [
    "var1 = input(\"Where do you want to visit?:\")\n",
    "var2 = input(\"Where do you live?:\")\n",
    "var3 = input(\"What is your favorite soccer club?:\")\n",
    "\n",
    "my_list = [var1, var2, var3]\n",
    "\n",
    "my_dict = {\n",
    "    var1,\n",
    "    var2,\n",
    "    var3\n",
    "}\n",
    "\n",
    "print(my_list)\n",
    "print(my_dict)\n",
    "\n",
    "print(\"I want to visit \" + var1 + \", I live in \" +  var2 + \", and my favorite soccer club is \" + var3)"
   ]
  },
  {
   "cell_type": "markdown",
   "metadata": {},
   "source": [
    "# 3.1 hw hack"
   ]
  },
  {
   "cell_type": "code",
   "execution_count": null,
   "metadata": {
    "vscode": {
     "languageId": "javascript"
    }
   },
   "outputs": [],
   "source": [
    "// Defining parameters\n",
    "const fullName = \"Gyutae Kim\";\n",
    "const age = 16;\n",
    "const email = \"gyutae513@gmail.com\";\n",
    "const hobby = \"Soccer\";\n",
    "const dietaryPreferences = \"N/A\";\n",
    "\n",
    "// Creating a unique ID by using a hash of the name and age\n",
    "const uniqueID = `${fullName.split(\" \")[0].slice(0, 3)}-${age}${fullName.split(\" \")[1].slice(0, 3)}`;\n",
    "\n",
    "// Storing data in an object\n",
    "const personalInfo = {\n",
    "    fullName: fullName,\n",
    "    age: age,\n",
    "    email: email,\n",
    "    hobby: hobby,\n",
    "    dietaryPreferences: dietaryPreferences,\n",
    "    uniqueID: uniqueID\n",
    "};\n",
    "\n",
    "// Function to display the personal information\n",
    "function displayInfo(info) {\n",
    "    return `\n",
    "        Personal Info:\n",
    "        - Full Name: ${info.fullName}\n",
    "        - Age: ${info.age}\n",
    "        - Email: ${info.email}\n",
    "        - Hobby: ${info.hobby}\n",
    "        - Dietary Preferences: ${info.dietaryPreferences}\n",
    "        - Unique ID: ${info.uniqueID}\n",
    "    `;\n",
    "}\n",
    "\n",
    "// Logging the formatted info to the console\n",
    "console.log(displayInfo(personalInfo));\n"
   ]
  }
 ],
 "metadata": {
  "kernelspec": {
   "display_name": "venv",
   "language": "python",
   "name": "python3"
  },
  "language_info": {
   "codemirror_mode": {
    "name": "ipython",
    "version": 3
   },
   "file_extension": ".py",
   "mimetype": "text/x-python",
   "name": "python",
   "nbconvert_exporter": "python",
   "pygments_lexer": "ipython3",
   "version": "3.12.3"
  }
 },
 "nbformat": 4,
 "nbformat_minor": 2
}
