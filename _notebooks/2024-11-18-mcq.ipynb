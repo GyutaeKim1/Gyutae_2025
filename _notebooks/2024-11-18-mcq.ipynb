{
 "cells": [
  {
   "cell_type": "raw",
   "metadata": {
    "vscode": {
     "languageId": "raw"
    }
   },
   "source": [
    "---\n",
    "layout: post\n",
    "title: MCQ Reflection and Corrections\n",
    "comments: true\n",
    "---"
   ]
  },
  {
   "cell_type": "markdown",
   "metadata": {},
   "source": [
    "# What did you learn from the quiz?\n",
    "\n",
    "I learned a lot of things through completing the quiz. I gained dbetter understanding of how to prepare and study for the AP exam for CSP. There were questions based on common sense, but there were questions that required my knowledge and think hard with critical thinking and problem-solving skills. Because I wasn't able to get some problems, I reviewed and searched up how to solve them and how it works. Then, I was able to understand the material better and be more prepared for the AP test.\n",
    "\n",
    "# What type of questions do you feel you are week on?\n",
    "\n",
    "I felt like I was week on visual codes. Reading the code and finding mistakes or finding which sentence fits the code was challenging for me because before, I had a little knowledge of how to read and find mistakes. But, after this, I was able to understand better and find mistakes. I sometimes misread loop conditions or the flow of logic, leading to errors. \n",
    "\n",
    "# Corrections on anything I got wrong \n",
    "\n"
   ]
  }
 ],
 "metadata": {
  "language_info": {
   "name": "python"
  }
 },
 "nbformat": 4,
 "nbformat_minor": 2
}
