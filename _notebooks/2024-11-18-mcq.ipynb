{
 "cells": [
  {
   "cell_type": "raw",
   "metadata": {
    "vscode": {
     "languageId": "raw"
    }
   },
   "source": [
    "---\n",
    "layout: post\n",
    "title: MCQ Reflection and Corrections\n",
    "comments: true\n",
    "---"
   ]
  },
  {
   "cell_type": "markdown",
   "metadata": {},
   "source": [
    "# What did you learn from the quiz?\n",
    "\n",
    "I learned a lot of things through completing the quiz. I gained dbetter understanding of how to prepare and study for the AP exam for CSP. There were questions based on common sense, but there were questions that required my knowledge and think hard with critical thinking and problem-solving skills. Because I wasn't able to get some problems, I reviewed and searched up how to solve them and how it works. Then, I was able to understand the material better and be more prepared for the AP test.\n",
    "\n",
    "# What type of questions do you feel you are week on?\n",
    "\n",
    "I felt like I was week on visual codes. Reading the code and finding mistakes or finding which sentence fits the code was challenging for me because before, I had a little knowledge of how to read and find mistakes. But, after this, I was able to understand better and find mistakes. I sometimes misread loop conditions or the flow of logic, leading to errors. \n",
    "\n",
    "# Corrections on anything I got wrong \n",
    "\n",
    "Q41: Consider the two programs below and find which of the followings best compares the values displayed by programs A and B. \n",
    "\n",
    "I chose D initially, which was Program A and program B display a different number of values. But the answer was program A and program B display the same number of values, but the values differ because both grograms display ten values. \n",
    "\n",
    "Q17: Directions: The question or incomplete statement below is followed by four suggested answers or completions. Select the one that is best in each case.\n",
    "\n",
    "Which of the following actions could be used to help reduce the digital divide?\n",
    "\n",
    "I.   Providing free education and training on how to use computing devices\n",
    "II.  Providing free or low-cost computing devices to low-income individuals\n",
    "III. Providing networks and infrastructure to people in remote areas\n",
    "\n",
    "Corrections: I chose C at first because I thought it was only one and two, but it was also three beucase Free education and training would address digital literacy and would reduce the digital divide.\n",
    "\n",
    "Q37: The two code segments below are each intended to display the average of the numbers in the list One word, num List. Assume that One word, num List contains more than one value. Which of the following best describes the two code segments?\n",
    "\n",
    "Correction: I chose Code segment II displays the correct average, but code segment I does not at first, but the answer was Both code segments display the correct average, but code segment I requires more arithmetic operations than code segment II because  Both code segments display the correct average. Code segment I requires more arithmetic operations because it performs the operation sum divided by LENGTH, open parenthesis, num List, close parenthesis within the loop, while code segment II performs the same operation only once.\n",
    "\n",
    "\n",
    "\n",
    "\n"
   ]
  }
 ],
 "metadata": {
  "language_info": {
   "name": "python"
  }
 },
 "nbformat": 4,
 "nbformat_minor": 2
}
