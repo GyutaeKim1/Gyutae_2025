{
 "cells": [
  {
   "cell_type": "raw",
   "metadata": {
    "vscode": {
     "languageId": "raw"
    }
   },
   "source": [
    "---\n",
    "layout: post\n",
    "title: Sprint 2 Reflection\n",
    "description: achievements / reflection \n",
    "comments: true\n",
    "---"
   ]
  },
  {
   "cell_type": "markdown",
   "metadata": {},
   "source": [
    "[3.6 Lesson]({{site.baseurl}}/csp/big-idea/3-6/p1/lesson) | [3.7 Lesson]({{site.baseurl}}/csp/big-idea/3-7/p1/lesson) | [Lesson Hacks]({{site.baseurl}}/lessonhacks/sprint2)\n"
   ]
  },
  {
   "cell_type": "markdown",
   "metadata": {
    "vscode": {
     "languageId": "raw"
    }
   },
   "source": [
    "# Reflection\n",
    "\n",
    "Throughout the unit, I mastered fundamental concepts in programming that helped build a better understanding of how to code. In 3.1, I learned  variables and strings in the program, but in 3.2, additional data types were added to include booleans, integers, and floating point numbers. By the end of 3.3, I was able to learn basic mathematical expressions. Further, this helped me build a stronger foundation in the area of programming by exposing me to python strings and javascript strings in 3.4, and booleans and logical operations in 3.5. In 3.6, conditionals were introduced and 3.7, where nested conditionals and pseudocode can be used in outlining the program logic. 3.8 was about iterations and loops, and it allow you to repeat tasks over and over again for as long as you want as much as you want. Lastly in 3.10, I learned about creating lists. The presentations were helpful. The class was interesting and fun; it made the complex concepts simpler and more pleasant to master. \n"
   ]
  },
  {
   "cell_type": "markdown",
   "metadata": {
    "vscode": {
     "languageId": "raw"
    }
   },
   "source": [
    "This is why I know my units: I know my units because I actively engaged with the material, participating in presentations and discussions with my classmates. By presenting on 3.6 and 3.7, I deepened my understanding of conditionals and nested conditionals, and I was able to explain these concepts clearly to others. Listening to my peers also reinforced my knowledge, as I gained insights from their presentations on various topics, from variables to loops.\n",
    "\n",
    "\n",
    "This is how I build a summary in my blog that shows how I know or how I will review: In my blog, I build summaries by reflecting on each unit's key concepts and how they connect to one another. I also can write a summary about what I remember from presentations.\n",
    "\n",
    "This is how you know I am more than be perfunctory on my learning journey: I participate in class, ask questions when material is hard to understand, and try to use what I have learned in my projects. My presentations show what I know, and I always look for ways to improve my skills more, instead of only finishing tasks in order to get good grades.\n",
    "\n",
    "Here are some memories from my homework, learning, and teaching: The homework assignments were similar to the popcorn hacks but more challenging. They required a deep understanding of the material we covered. Much of what we learned was directly applied to these assignments. Although the hacks and homework were difficult at times, once I grasped the lessons, I was able to complete them successfully.\n",
    "\n",
    "This is how you know my work is distinctive, unique, and genuine: I put effort into each hacks, homework hacks, and my presentation.I tried to make my work creative and unique. I incorporated original ideas into my hacks, such as adding extra features that went beyond the basic requirements. I also ensured that my work not only met the criteria but also reflected my understanding for the subject.\n",
    "\n"
   ]
  }
 ],
 "metadata": {
  "language_info": {
   "name": "python"
  }
 },
 "nbformat": 4,
 "nbformat_minor": 2
}
