{
 "cells": [
  {
   "cell_type": "code",
   "execution_count": 1,
   "metadata": {},
   "outputs": [
    {
     "name": "stdout",
     "output_type": "stream",
     "text": [
      "String 1: Premier League is the best league\n",
      "Length: 33\n",
      "Vowel Count: 14\n",
      "Average Word Length: 4.666666666666667\n",
      "Palindrome or Not? False\n",
      "String 2: The match was intense and thrilling\n",
      "Length: 35\n",
      "Vowel Count: 9\n",
      "Average Word Length: 5.0\n",
      "Palindrome or Not? False\n"
     ]
    }
   ],
   "source": [
    "string = \"Premier League is the best league\"\n",
    "string2 = \"The match was intense and thrilling\"\n",
    "print(\"String 1: Premier League is the best league\")\n",
    "length = len(string)\n",
    "print(\"Length:\", length)\n",
    "\n",
    "def count_vowels(input_string):\n",
    "    vowels = 'aeiouAEIOU'\n",
    "    count = 0\n",
    "    for char in input_string:\n",
    "        if char in vowels:\n",
    "            count += 1\n",
    "    return count\n",
    "\n",
    "print(\"Vowel Count:\", count_vowels(string))\n",
    "\n",
    "def average_word_length(input_string):\n",
    "    words = input_string.split()\n",
    "    if not words:\n",
    "        return 0\n",
    "    total_length = sum(len(word) for word in words)\n",
    "    average_length = total_length / len(words)\n",
    "    return average_length\n",
    "\n",
    "print(\"Average Word Length:\", average_word_length(string))\n",
    "\n",
    "def palindrome(input_string):\n",
    "    string = input_string.replace(\" \", \"\").lower()\n",
    "    return string == string[::-1]\n",
    "\n",
    "print(\"Palindrome or Not?\", palindrome(string))\n",
    "\n",
    "# For the second string\n",
    "print(\"String 2: The match was intense and thrilling\")\n",
    "length2 = len(string2)\n",
    "print(\"Length:\", length2)\n",
    "print(\"Vowel Count:\", count_vowels(string2))\n",
    "print(\"Average Word Length:\", average_word_length(string2))\n",
    "print(\"Palindrome or Not?\", palindrome(string2))"
   ]
  }
 ],
 "metadata": {
  "kernelspec": {
   "display_name": "venv",
   "language": "python",
   "name": "python3"
  },
  "language_info": {
   "codemirror_mode": {
    "name": "ipython",
    "version": 3
   },
   "file_extension": ".py",
   "mimetype": "text/x-python",
   "name": "python",
   "nbconvert_exporter": "python",
   "pygments_lexer": "ipython3",
   "version": "3.12.3"
  }
 },
 "nbformat": 4,
 "nbformat_minor": 2
}
