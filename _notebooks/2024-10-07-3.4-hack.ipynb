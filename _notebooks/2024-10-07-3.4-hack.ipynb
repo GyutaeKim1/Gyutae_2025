{
 "cells": [
  {
   "cell_type": "raw",
   "metadata": {
    "vscode": {
     "languageId": "raw"
    }
   },
   "source": [
    "---\n",
    "layout: post\n",
    "title: 3.4 Hacks\n",
    "description: hacks\n",
    "permalink: /3.4hack/sprint2\n",
    "comments: true\n",
    "---"
   ]
  },
  {
   "cell_type": "markdown",
   "metadata": {},
   "source": [
    "# 3.4 Popcorn Hack"
   ]
  },
  {
   "cell_type": "code",
   "execution_count": 1,
   "metadata": {},
   "outputs": [
    {
     "name": "stdout",
     "output_type": "stream",
     "text": [
      "String 1: Premier League is the best league\n",
      "Length: 33\n",
      "Vowel Count: 14\n",
      "Average Word Length: 4.666666666666667\n",
      "Palindrome or Not? False\n",
      "String 2: The match was intense and thrilling\n",
      "Length: 35\n",
      "Vowel Count: 9\n",
      "Average Word Length: 5.0\n",
      "Palindrome or Not? False\n"
     ]
    }
   ],
   "source": [
    "string = \"Premier League is the best league\"\n",
    "string2 = \"The match was intense and thrilling\"\n",
    "print(\"String 1: Premier League is the best league\")\n",
    "length = len(string)\n",
    "print(\"Length:\", length)\n",
    "\n",
    "def count_vowels(input_string):\n",
    "    vowels = 'aeiouAEIOU'\n",
    "    count = 0\n",
    "    for char in input_string:\n",
    "        if char in vowels:\n",
    "            count += 1\n",
    "    return count\n",
    "\n",
    "print(\"Vowel Count:\", count_vowels(string))\n",
    "\n",
    "def average_word_length(input_string):\n",
    "    words = input_string.split()\n",
    "    if not words:\n",
    "        return 0\n",
    "    total_length = sum(len(word) for word in words)\n",
    "    average_length = total_length / len(words)\n",
    "    return average_length\n",
    "\n",
    "print(\"Average Word Length:\", average_word_length(string))\n",
    "\n",
    "def palindrome(input_string):\n",
    "    string = input_string.replace(\" \", \"\").lower()\n",
    "    return string == string[::-1]\n",
    "\n",
    "print(\"Palindrome or Not?\", palindrome(string))\n",
    "\n",
    "# For the second string\n",
    "print(\"String 2: The match was intense and thrilling\")\n",
    "length2 = len(string2)\n",
    "print(\"Length:\", length2)\n",
    "print(\"Vowel Count:\", count_vowels(string2))\n",
    "print(\"Average Word Length:\", average_word_length(string2))\n",
    "print(\"Palindrome or Not?\", palindrome(string2))"
   ]
  },
  {
   "cell_type": "markdown",
   "metadata": {},
   "source": [
    "# 3.4 hw hack"
   ]
  },
  {
   "cell_type": "code",
   "execution_count": null,
   "metadata": {
    "vscode": {
     "languageId": "javascript"
    }
   },
   "outputs": [],
   "source": [
    "function passwordValidator(password) {\n",
    "    // Check if password length is less than 8\n",
    "    if (password.length < 8) {\n",
    "        return \"Password too short. Must be at least 8 characters.\";\n",
    "    }\n",
    "\n",
    "    // Check if the password is all uppercase or all lowercase\n",
    "    if (password === password.toLowerCase() || password === password.toUpperCase()) {\n",
    "        return \"Password must contain both uppercase and lowercase letters.\";\n",
    "    }\n",
    "\n",
    "    // Check if the password contains at least one number\n",
    "    if (!/\\d/.test(password)) {\n",
    "        return \"Password must contain at least one number.\";\n",
    "    }\n",
    "\n",
    "    // Optional: Replace \"123\" with \"abc\"\n",
    "    password = password.replace(\"123\", \"abc\");\n",
    "\n",
    "    // Split password by spaces and join with dashes\n",
    "    const customizedPassword = password.split(\" \").join(\"-\");\n",
    "\n",
    "    return `Password is valid! Here’s a fun version: ${customizedPassword}`;\n",
    "}\n",
    "\n",
    "// Example usage\n",
    "const password = \"HelloWorld123\";\n",
    "console.log(passwordValidator(password));\n"
   ]
  }
 ],
 "metadata": {
  "kernelspec": {
   "display_name": "venv",
   "language": "python",
   "name": "python3"
  },
  "language_info": {
   "codemirror_mode": {
    "name": "ipython",
    "version": 3
   },
   "file_extension": ".py",
   "mimetype": "text/x-python",
   "name": "python",
   "nbconvert_exporter": "python",
   "pygments_lexer": "ipython3",
   "version": "3.12.3"
  }
 },
 "nbformat": 4,
 "nbformat_minor": 2
}
