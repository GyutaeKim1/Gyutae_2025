{
 "cells": [
  {
   "cell_type": "markdown",
   "metadata": {},
   "source": [
    "---\n",
    "layout: post\n",
    "title: Group 1 Hacks\n",
    "comments: true\n",
    "---"
   ]
  },
  {
   "cell_type": "markdown",
   "metadata": {},
   "source": [
    "# Gyutae Kim"
   ]
  },
  {
   "cell_type": "markdown",
   "metadata": {},
   "source": [
    "### Popcorn Hack 1\n",
    "\n",
    "Beneficial: Bneficial effects of technology is that it is easier to communicate with people and have easier access to social media, news, and easier to communicate with people. With phones and social media, we don't need to meet someone in real life to talk to one. \n",
    "\n",
    "Harmful: A harmful effect is that there is false information that can make people believe in wrong information. It can cause hate and target someone with hatred.  "
   ]
  },
  {
   "cell_type": "markdown",
   "metadata": {},
   "source": [
    "### Popcorn Hack 2\n",
    "\n",
    "A meaning of the negative effects of technology is that some people are taaking advantage of technology to harm someone or cause harmlful impacts to the community. Responsible coding can solve uninteded harms by reducing serurity Vulnerabilities and increase user privacy. This is important because it can reduce cases where people are being affected by negative effects. "
   ]
  },
  {
   "cell_type": "markdown",
   "metadata": {},
   "source": [
    "### Popcorn Hack 3\n",
    "\n",
    "It is important to understand unintended consequences of technology especially in terms of dopamine-driven technology because by understanding the effects of technology like dopamine will let us reduce negative effects. For example, phone or social media addiction making it difficult for people to control their screen time, similar to how gambling or drug addiction functions. Understanding the unintended consequences will let us take more steps to take control or prevent negative effects which harms us. "
   ]
  },
  {
   "cell_type": "markdown",
   "metadata": {},
   "source": [
    "### HW Hack 1\n",
    "\n",
    "1) Facial recognition\n",
    "\n",
    " - Original use: Facial recognition was originally developed for security and authentication purposes, such as unlocking smartphones, airport security checks, and verifying identities in banking.\n",
    " - New use: Using Facial Recognition to Identify Missing Children in Public Places\n",
    " - benefit: Increases the chances of finding a missing child.\n",
    " - risk: Potential privacy concerns\n",
    "\n",
    "### HW Hack 2\n",
    "\n",
    " - Problem: Misinformation\n",
    " - AI generated misinformation can cause hatred, affect one negatively, and might cause violence among people. When false informations go viral, they can create division, fear, and distrust in society, making it harder to find if its truth or lies. \n",
    " - solution 1: Make an AI tool that detects misinformations and flag them. By detecting misinformations, websites could be more trusted and reliable since non flagged websites include facts. \n",
    " - Solution 2: Have the human check the each works and identify the false informations.\n",
    " - Reflection: AI is powerful, but it can be used to manipulate truth. Ethical AI development is important to prevent harm and and have facts in websites.. By combining AI detection with human oversight, we can reduce the spread of misinformation.\n",
    "\n",
    "### HW Hack 3\n",
    "\n",
    " - AI Example: AI Chatbot Spreading Misinformation\n",
    " - Summarize What Happened: Microsoft’s Bing Chat AI spread false information, including conspiracy theories, instead of accurate responses.\n",
    " - Response: Microsoft updated the AI with stricter moderation, conversation limits, and disclaimers.\n",
    " - Prevention: Stronger fact-checking, trusted data sources, and human oversight could have prevented this.\n",
    "\n",
    "\n",
    "\n",
    "\n",
    "\n",
    "\n",
    "\n"
   ]
  }
 ],
 "metadata": {
  "language_info": {
   "name": "python"
  }
 },
 "nbformat": 4,
 "nbformat_minor": 2
}
