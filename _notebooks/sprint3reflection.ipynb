{
 "cells": [
  {
   "cell_type": "raw",
   "metadata": {
    "vscode": {
     "languageId": "raw"
    }
   },
   "source": [
    "---\n",
    "layout: post\n",
    "title: Sprint 3 Reflection\n",
    "comments: true\n",
    "---"
   ]
  },
  {
   "cell_type": "markdown",
   "metadata": {},
   "source": [
    "First, we listed our ideas and created a google doc to organize our ideas.\n",
    "\n",
    "![evidence7]({{site.baseurl}}/images/evidence7.png)\n",
    "![evidence8]({{site.baseurl}}/images/evidence8.png)\n",
    "![evidence9]({{site.baseurl}}/images/evidence9.png)\n",
    "![evidence10]({{site.baseurl}}/images/evidence10.png)\n",
    "\n"
   ]
  }
 ],
 "metadata": {
  "language_info": {
   "name": "python"
  }
 },
 "nbformat": 4,
 "nbformat_minor": 2
}
