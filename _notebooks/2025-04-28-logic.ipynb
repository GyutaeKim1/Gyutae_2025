{
 "cells": [
  {
   "cell_type": "markdown",
   "id": "c8f1d65b",
   "metadata": {},
   "source": [
    "---\n",
    "layout: post\n",
    "title: Logic Gates - Gyutae Kim\n",
    "comments: true\n",
    "---"
   ]
  },
  {
   "cell_type": "markdown",
   "id": "338bf25f",
   "metadata": {},
   "source": [
    "### Popcorn Hack 1\n",
    "\n",
    "Logic gates are essential in real-world applications like computers, where they perform calculations and run software, and in data storage, enabling efficient binary data management. They ensure reliable communication in signal processing, control automation in industries and robotics, and power medical devices for accurate healthcare solutions. These applications drive technological advancements and improve daily life.\n",
    "\n",
    "\n",
    "### Popcron Hack 2\n",
    "\n",
    "A. (X AND Y) OR Z\n",
    "\n",
    "## HW Hack\n",
    "\n",
    "python def secure_entry_system(keycard, pin, voice): def AND(a, b, c): return a & b & c # AND logic return AND(keycard, pin, voice)"
   ]
  }
 ],
 "metadata": {
  "language_info": {
   "name": "python"
  }
 },
 "nbformat": 4,
 "nbformat_minor": 5
}
