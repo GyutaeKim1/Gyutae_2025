{
 "cells": [
  {
   "cell_type": "raw",
   "metadata": {
    "vscode": {
     "languageId": "raw"
    }
   },
   "source": [
    "---\n",
    "layout: post\n",
    "title: 3.5 Hacks\n",
    "description: hacks\n",
    "permalink: /3.5hack/sprint2\n",
    "comments: true\n",
    "---"
   ]
  },
  {
   "cell_type": "markdown",
   "metadata": {
    "vscode": {
     "languageId": "plaintext"
    }
   },
   "source": [
    "# Popcorn Hack 1"
   ]
  },
  {
   "cell_type": "code",
   "execution_count": 1,
   "metadata": {},
   "outputs": [
    {
     "name": "stdout",
     "output_type": "stream",
     "text": [
      "VariableC is false!\n",
      "VariableC is true and Variable D is false\n",
      "Either variableC or variableD is true\n"
     ]
    }
   ],
   "source": [
    "variableC = True\n",
    "variableD = False\n",
    "\n",
    "if variableD:\n",
    "    print(\"VariableD is true!\")\n",
    "else:\n",
    "    print(\"VariableC is false!\")\n",
    "\n",
    "if variableC and not variableD:\n",
    "    print(\"VariableC is true and Variable D is false\")\n",
    "\n",
    "if variableC or varaibleD:\n",
    "    print(\"Either variableC or variableD is true\")"
   ]
  },
  {
   "cell_type": "markdown",
   "metadata": {},
   "source": [
    "# Popcorn Hack 2"
   ]
  },
  {
   "cell_type": "code",
   "execution_count": 6,
   "metadata": {},
   "outputs": [
    {
     "name": "stdout",
     "output_type": "stream",
     "text": [
      "number is greater than one!\n"
     ]
    }
   ],
   "source": [
    "number = 5\n",
    "\n",
    "if number > 1:\n",
    "    print(\"number is greater than one!\")\n",
    "else:\n",
    "    print(\"number is not greater than one!\")\n",
    "    "
   ]
  },
  {
   "cell_type": "markdown",
   "metadata": {},
   "source": [
    "# Popcorn Hack 3"
   ]
  },
  {
   "cell_type": "code",
   "execution_count": 7,
   "metadata": {},
   "outputs": [
    {
     "name": "stdout",
     "output_type": "stream",
     "text": [
      "number is two digits!\n"
     ]
    }
   ],
   "source": [
    "number = 50\n",
    "\n",
    "if number >= 10 and number <= 99:\n",
    "    print(\"number is two digits!\")\n",
    "else:\n",
    "    print(\"number is not two digits!\")\n"
   ]
  },
  {
   "cell_type": "markdown",
   "metadata": {},
   "source": [
    "# HW Hack "
   ]
  },
  {
   "cell_type": "code",
   "execution_count": 8,
   "metadata": {},
   "outputs": [
    {
     "name": "stdout",
     "output_type": "stream",
     "text": [
      "A      B        Result\n",
      "False  False  True\n",
      "False  True  True\n",
      "True  False  True\n",
      "True  True  True\n"
     ]
    }
   ],
   "source": [
    "def deMorganLaw():\n",
    "    print(\"A      B        Result\")\n",
    "    values = [False, True]\n",
    "\n",
    "    for A in values:\n",
    "        for B in values:\n",
    "            result = not (A and B) == (not A or not B)\n",
    "            print(f\"{A}  {B}  {result}\")\n",
    "\n",
    "deMorganLaw()\n"
   ]
  }
 ],
 "metadata": {
  "kernelspec": {
   "display_name": "venv",
   "language": "python",
   "name": "python3"
  },
  "language_info": {
   "codemirror_mode": {
    "name": "ipython",
    "version": 3
   },
   "file_extension": ".py",
   "mimetype": "text/x-python",
   "name": "python",
   "nbconvert_exporter": "python",
   "pygments_lexer": "ipython3",
   "version": "3.12.3"
  }
 },
 "nbformat": 4,
 "nbformat_minor": 2
}
