{
 "cells": [
  {
   "cell_type": "raw",
   "metadata": {
    "vscode": {
     "languageId": "raw"
    }
   },
   "source": [
    "---\n",
    "layout: post\n",
    "title: 3.8 Hacks\n",
    "description: hacks\n",
    "permalink: /3.8hack/sprint2\n",
    "comments: true\n",
    "---"
   ]
  },
  {
   "cell_type": "markdown",
   "metadata": {},
   "source": [
    "# Popcorn Hack 1"
   ]
  },
  {
   "cell_type": "code",
   "execution_count": 3,
   "metadata": {},
   "outputs": [
    {
     "name": "stdout",
     "output_type": "stream",
     "text": [
      "Child ticket price: $5.00\n"
     ]
    }
   ],
   "source": [
    "base_ticket_price = 10.00\n",
    "\n",
    "age = int(input(\"Please enter your age: \"))\n",
    "\n",
    "if age <= 12:\n",
    "    ticket_price = base_ticket_price * 0.5  \n",
    "    print(f\"Child ticket price: ${ticket_price:.2f}\")\n",
    "elif age <= 63:\n",
    "    ticket_price = base_ticket_price \n",
    "    print(f\"Adult ticket price: ${ticket_price:.2f}\")\n",
    "else:\n",
    "    ticket_price = base_ticket_price * 0.7\n",
    "    print(f\"Senior ticket price: ${ticket_price:.2f}\")"
   ]
  },
  {
   "cell_type": "markdown",
   "metadata": {},
   "source": [
    "# Challenge"
   ]
  },
  {
   "cell_type": "code",
   "execution_count": 2,
   "metadata": {},
   "outputs": [
    {
     "name": "stdout",
     "output_type": "stream",
     "text": [
      "Senior ticket applied! The ticket price is: $7.00\n"
     ]
    }
   ],
   "source": [
    "\n",
    "has_ticket = input(\"Do you have a ticket? (yes/no): \").lower() == \"yes\"\n",
    "\n",
    "ticket_price = 10.00\n",
    "\n",
    "if has_ticket:\n",
    "   \n",
    "    age = int(input(\"Please enter your age: \"))\n",
    "    \n",
    "    if age <= 12:\n",
    "        final_price = ticket_price * 0.50  \n",
    "        print(f\"Child ticket applied! The ticket price is: ${final_price:.2f}\")\n",
    "    elif age >= 65:\n",
    "        final_price = ticket_price * 0.70  \n",
    "        print(f\"Senior ticket applied! The ticket price is: ${final_price:.2f}\")\n",
    "    else:\n",
    "        final_price = ticket_price  \n",
    "        print(f\"Adult ticket, no discount applied. The ticket price is: ${final_price:.2f}\")\n",
    "else:\n",
    "    print(\"You need a ticket to enter.\")\n"
   ]
  },
  {
   "cell_type": "markdown",
   "metadata": {},
   "source": [
    "# Popcorn Hack 2"
   ]
  },
  {
   "cell_type": "code",
   "execution_count": 5,
   "metadata": {},
   "outputs": [
    {
     "name": "stdout",
     "output_type": "stream",
     "text": [
      "Result: 1.6666666666666667\n",
      "successful\n",
      "The number 6 is even.\n"
     ]
    }
   ],
   "source": [
    "try:\n",
    "    number = int(input(\"Enter a number: \")) \n",
    "    result = 10 / number \n",
    "    print(\"Result:\", result)\n",
    "except ValueError:\n",
    "    print(\"Not a number\")\n",
    "except ZeroDivisionError:\n",
    "    print(\"Can't divide by 0\")\n",
    "else:\n",
    "   \n",
    "    print(\"successful\")\n",
    "    \n",
    "    if number % 2 == 0:\n",
    "        print(f\"The number {number} is even.\")\n",
    "    else:\n",
    "        print(f\"The number {number} is odd.\")"
   ]
  },
  {
   "cell_type": "markdown",
   "metadata": {},
   "source": [
    "# HW Hack"
   ]
  },
  {
   "cell_type": "code",
   "execution_count": 13,
   "metadata": {},
   "outputs": [
    {
     "name": "stdout",
     "output_type": "stream",
     "text": [
      "This is a positive number.\n",
      "Result: 5.00\n",
      "Success!\n"
     ]
    }
   ],
   "source": [
    "while True:\n",
    "    try:\n",
    "        number = int(input(\"Enter a positive number: \"))\n",
    "        \n",
    "        if number <= 0:\n",
    "            print(\"Try again! Please enter a positive number.\")\n",
    "            continue\n",
    "        \n",
    "        if number % 2 != 0:\n",
    "            print(\"This is a positive number.\")\n",
    "            continue\n",
    "\n",
    "        result = 10 / number\n",
    "        print(f\"Result: {result:.2f}\")\n",
    "\n",
    "    except ValueError:\n",
    "        print(\"Error: Not a valid number.\")\n",
    "    except ZeroDivisionError:\n",
    "        print(\"Error: Cannot divide by zero.\")\n",
    "    else:\n",
    "        print(\"Success!\") \n",
    "        break  \n",
    "\n"
   ]
  }
 ],
 "metadata": {
  "kernelspec": {
   "display_name": "venv",
   "language": "python",
   "name": "python3"
  },
  "language_info": {
   "codemirror_mode": {
    "name": "ipython",
    "version": 3
   },
   "file_extension": ".py",
   "mimetype": "text/x-python",
   "name": "python",
   "nbconvert_exporter": "python",
   "pygments_lexer": "ipython3",
   "version": "3.12.3"
  }
 },
 "nbformat": 4,
 "nbformat_minor": 2
}
