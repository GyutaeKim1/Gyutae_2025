{
 "cells": [
  {
   "cell_type": "raw",
   "metadata": {
    "vscode": {
     "languageId": "raw"
    }
   },
   "source": [
    "---\n",
    "layout: post\n",
    "title: 3.2 Hacks\n",
    "description: hacks\n",
    "permalink: /3.2hack/sprint2\n",
    "comments: true\n",
    "---"
   ]
  },
  {
   "cell_type": "markdown",
   "metadata": {},
   "source": [
    "# Popcorn Hack 1"
   ]
  },
  {
   "cell_type": "code",
   "execution_count": 3,
   "metadata": {},
   "outputs": [
    {
     "name": "stdout",
     "output_type": "stream",
     "text": [
      "\n",
      "Fiction:\n",
      " - The Great Gatsby\n",
      " - 1984\n",
      " - To Kill a Mockingbird\n",
      "\n",
      "Science Fiction:\n",
      " - Dune\n",
      " - Neuromancer\n",
      " - Foundation\n",
      "\n",
      "Fantasy:\n",
      " - Harry Potter and the Sorcerer's Stone\n",
      " - The Hobbit\n",
      " - Mistborn: The Final Empire\n",
      "\n",
      "Non-Fiction:\n",
      " - Sapiens: A Brief History of Humankind\n",
      " - Educated\n",
      " - Becoming\n"
     ]
    }
   ],
   "source": [
    "# Define a dictionary with books categorized by genre\n",
    "book_genres = {\n",
    "    \"Fiction\": [\"The Great Gatsby\", \"1984\", \"To Kill a Mockingbird\"],\n",
    "    \"Science Fiction\": [\"Dune\", \"Neuromancer\", \"Foundation\"],\n",
    "    \"Fantasy\": [\"Harry Potter and the Sorcerer's Stone\", \"The Hobbit\", \"Mistborn: The Final Empire\"],\n",
    "    \"Non-Fiction\": [\"Sapiens: A Brief History of Humankind\", \"Educated\", \"Becoming\"]\n",
    "}\n",
    "\n",
    "# Function to print the list of books by genre\n",
    "def print_books(genres):\n",
    "    for genre, titles in genres.items():\n",
    "        print(f\"\\n{genre}:\")\n",
    "        for title in titles:\n",
    "            print(f\" - {title}\")\n",
    "\n",
    "# Call the function to display books\n",
    "print_books(book_genres)\n",
    "\n"
   ]
  },
  {
   "cell_type": "markdown",
   "metadata": {},
   "source": [
    "# Popcorn Hack 2"
   ]
  },
  {
   "cell_type": "code",
   "execution_count": 9,
   "metadata": {},
   "outputs": [
    {
     "name": "stdout",
     "output_type": "stream",
     "text": [
      "['Frontend Development', 'Github Pages Playground', 'Javascript Playground', 'SASS Basics']\n",
      "True\n",
      "['Big Ideas 3.6', 'Big Ideas 3.7']\n",
      "True\n"
     ]
    }
   ],
   "source": [
    "sprints = {\n",
    "    'Sprint1': ['Frontend Development', 'Github Pages Playground', 'Javascript Playground', 'SASS Basics'],\n",
    "    'Sprint2': ['Big Ideas 3.6', 'Big Ideas 3.7']\n",
    "}\n",
    "\n",
    "print(sprints['Sprint1'])\n",
    "if \"Frontend Development\" in sprints['Sprint1']:\n",
    "    print(True) \n",
    "else:\n",
    "    print(False)\n",
    "    \n",
    "print(sprints['Sprint2'])\n",
    "if \"Big Ideas 3.6\" in sprints['Sprint2']:\n",
    "    print(True) \n",
    "else:\n",
    "    print(False)"
   ]
  },
  {
   "cell_type": "markdown",
   "metadata": {},
   "source": [
    "# Popcorn Hack 3"
   ]
  },
  {
   "cell_type": "code",
   "execution_count": 4,
   "metadata": {},
   "outputs": [
    {
     "name": "stdout",
     "output_type": "stream",
     "text": [
      "Title: Inception\n",
      "Director: Christopher Nolan\n",
      "Genre: Sci-Fi\n",
      "Copies Available: 3\n",
      "Viewers:\n",
      " - John Smith (Viewed on: 2024-08-14)\n",
      " - Jane Doe (Viewed on: 2024-09-02)\n",
      "\n",
      "\n",
      "Title: The Dark Knight\n",
      "Director: Christopher Nolan\n",
      "Genre: Action\n",
      "Copies Available: 2\n",
      "Viewers:\n",
      " - Bruce Wayne (Viewed on: 2024-07-20)\n",
      "\n",
      "\n",
      "Title: The Matrix\n",
      "Director: The Wachowskis\n",
      "Genre: Sci-Fi\n",
      "Copies Available: 1\n",
      "Viewers:\n",
      " - Neo Anderson (Viewed on: 2024-06-25)\n",
      "\n",
      "\n"
     ]
    }
   ],
   "source": [
    "# List of dictionaries representing movies in a movie collection\n",
    "movie_collection = [\n",
    "    {\n",
    "        \"title\": \"Inception\",\n",
    "        \"director\": \"Christopher Nolan\",\n",
    "        \"genre\": \"Sci-Fi\",\n",
    "        \"copies_available\": 3,\n",
    "        \"viewers\": [\n",
    "            {\"name\": \"John Smith\", \"view_date\": \"2024-08-14\"},\n",
    "            {\"name\": \"Jane Doe\", \"view_date\": \"2024-09-02\"}\n",
    "        ]\n",
    "    },\n",
    "    {\n",
    "        \"title\": \"The Dark Knight\",\n",
    "        \"director\": \"Christopher Nolan\",\n",
    "        \"genre\": \"Action\",\n",
    "        \"copies_available\": 2,\n",
    "        \"viewers\": [\n",
    "            {\"name\": \"Bruce Wayne\", \"view_date\": \"2024-07-20\"}\n",
    "        ]\n",
    "    },\n",
    "    {\n",
    "        \"title\": \"The Matrix\",\n",
    "        \"director\": \"The Wachowskis\",\n",
    "        \"genre\": \"Sci-Fi\",\n",
    "        \"copies_available\": 1,\n",
    "        \"viewers\": [\n",
    "            {\"name\": \"Neo Anderson\", \"view_date\": \"2024-06-25\"}\n",
    "        ]\n",
    "    }\n",
    "]\n",
    "\n",
    "# Display information about each movie in the movie collection\n",
    "for movie in movie_collection:\n",
    "    print(f\"Title: {movie['title']}\")\n",
    "    print(f\"Director: {movie['director']}\")\n",
    "    print(f\"Genre: {movie['genre']}\")\n",
    "    print(f\"Copies Available: {movie['copies_available']}\")\n",
    "    print(\"Viewers:\")\n",
    "    for viewer in movie['viewers']:\n",
    "        print(f\" - {viewer['name']} (Viewed on: {viewer['view_date']})\")\n",
    "    print(\"\\n\")\n"
   ]
  },
  {
   "cell_type": "markdown",
   "metadata": {},
   "source": [
    "# HW Hack"
   ]
  },
  {
   "cell_type": "code",
   "execution_count": 5,
   "metadata": {},
   "outputs": [
    {
     "name": "stdout",
     "output_type": "stream",
     "text": [
      "Match Date: 2024-09-30\n",
      "Home Team: Chelsea\n",
      "Away Team: Manchester City\n",
      "Final Score: 2-1\n",
      "Goal Scorers:\n",
      " - Chelsea: Raheem Sterling (Minute: 45)\n",
      " - Chelsea: Nicolas Jackson (Minute: 76)\n",
      " - Manchester City: Erling Haaland (Minute: 60)\n",
      "\n",
      "\n",
      "Match Date: 2024-10-07\n",
      "Home Team: Barcelona\n",
      "Away Team: Real Madrid\n",
      "Final Score: 1-3\n",
      "Goal Scorers:\n",
      " - Barcelona: Robert Lewandowski (Minute: 22)\n",
      " - Real Madrid: Vinícius Júnior (Minute: 35)\n",
      " - Real Madrid: Karim Benzema (Minute: 55)\n",
      " - Real Madrid: Luka Modrić (Minute: 85)\n",
      "\n",
      "\n",
      "Match Date: 2024-10-14\n",
      "Home Team: Bayern Munich\n",
      "Away Team: Borussia Dortmund\n",
      "Final Score: 4-0\n",
      "Goal Scorers:\n",
      " - Bayern Munich: Thomas Müller (Minute: 10)\n",
      " - Bayern Munich: Sadio Mané (Minute: 23)\n",
      " - Bayern Munich: Joshua Kimmich (Minute: 67)\n",
      " - Bayern Munich: Serge Gnabry (Minute: 75)\n",
      "\n",
      "\n"
     ]
    }
   ],
   "source": [
    "# List of dictionaries representing soccer matches\n",
    "soccer_matches = [\n",
    "    {\n",
    "        \"home_team\": \"Chelsea\",\n",
    "        \"away_team\": \"Manchester City\",\n",
    "        \"date\": \"2024-09-30\",\n",
    "        \"score\": \"2-1\",\n",
    "        \"goal_scorers\": [\n",
    "            {\"team\": \"Chelsea\", \"scorer\": \"Raheem Sterling\", \"minute\": 45},\n",
    "            {\"team\": \"Chelsea\", \"scorer\": \"Nicolas Jackson\", \"minute\": 76},\n",
    "            {\"team\": \"Manchester City\", \"scorer\": \"Erling Haaland\", \"minute\": 60}\n",
    "        ]\n",
    "    },\n",
    "    {\n",
    "        \"home_team\": \"Barcelona\",\n",
    "        \"away_team\": \"Real Madrid\",\n",
    "        \"date\": \"2024-10-07\",\n",
    "        \"score\": \"1-3\",\n",
    "        \"goal_scorers\": [\n",
    "            {\"team\": \"Barcelona\", \"scorer\": \"Robert Lewandowski\", \"minute\": 22},\n",
    "            {\"team\": \"Real Madrid\", \"scorer\": \"Vinícius Júnior\", \"minute\": 35},\n",
    "            {\"team\": \"Real Madrid\", \"scorer\": \"Karim Benzema\", \"minute\": 55},\n",
    "            {\"team\": \"Real Madrid\", \"scorer\": \"Luka Modrić\", \"minute\": 85}\n",
    "        ]\n",
    "    },\n",
    "    {\n",
    "        \"home_team\": \"Bayern Munich\",\n",
    "        \"away_team\": \"Borussia Dortmund\",\n",
    "        \"date\": \"2024-10-14\",\n",
    "        \"score\": \"4-0\",\n",
    "        \"goal_scorers\": [\n",
    "            {\"team\": \"Bayern Munich\", \"scorer\": \"Thomas Müller\", \"minute\": 10},\n",
    "            {\"team\": \"Bayern Munich\", \"scorer\": \"Sadio Mané\", \"minute\": 23},\n",
    "            {\"team\": \"Bayern Munich\", \"scorer\": \"Joshua Kimmich\", \"minute\": 67},\n",
    "            {\"team\": \"Bayern Munich\", \"scorer\": \"Serge Gnabry\", \"minute\": 75}\n",
    "        ]\n",
    "    }\n",
    "]\n",
    "\n",
    "# Display information about each soccer match\n",
    "for match in soccer_matches:\n",
    "    print(f\"Match Date: {match['date']}\")\n",
    "    print(f\"Home Team: {match['home_team']}\")\n",
    "    print(f\"Away Team: {match['away_team']}\")\n",
    "    print(f\"Final Score: {match['score']}\")\n",
    "    print(\"Goal Scorers:\")\n",
    "    for scorer in match['goal_scorers']:\n",
    "        print(f\" - {scorer['team']}: {scorer['scorer']} (Minute: {scorer['minute']})\")\n",
    "    print(\"\\n\")\n"
   ]
  }
 ],
 "metadata": {
  "kernelspec": {
   "display_name": "venv",
   "language": "python",
   "name": "python3"
  },
  "language_info": {
   "codemirror_mode": {
    "name": "ipython",
    "version": 3
   },
   "file_extension": ".py",
   "mimetype": "text/x-python",
   "name": "python",
   "nbconvert_exporter": "python",
   "pygments_lexer": "ipython3",
   "version": "3.12.3"
  }
 },
 "nbformat": 4,
 "nbformat_minor": 2
}
