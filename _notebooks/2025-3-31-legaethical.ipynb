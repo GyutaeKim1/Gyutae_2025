{
 "cells": [
  {
   "cell_type": "markdown",
   "metadata": {},
   "source": [
    "---\n",
    "layout: post\n",
    "title: Legal and Ethical Concerns - Gyutae KIm\n",
    "comments: true\n",
    "---"
   ]
  },
  {
   "cell_type": "markdown",
   "metadata": {},
   "source": [
    "### Popcorn Hack 1:\n",
    "\n",
    "**Define a Creative Commons License:**  \n",
    "A Creative Commons License is a public copyright license that allows creators to grant others permission to use, share, and build upon their work under specific conditions. It provides a flexible range of protections and freedoms, enabling creators to retain some rights while allowing others to use their work in ways they specify.\n",
    "\n",
    "**What are exceptions to the copyright law?**  \n",
    "Exceptions to copyright law include \"fair use,\" which allows limited use of copyrighted material without permission for purposes such as criticism, commentary, news reporting, teaching, scholarship, or research. Other exceptions include works in the public domain, government works, and certain educational or non-commercial uses.\n",
    "\n",
    "**How systems like Creative Commons, Open Sourcing, and Open Access help:**  \n",
    "Systems like Creative Commons, Open Sourcing, and Open Access allow intellectual work to be shared and used widely by removing barriers to access. They promote collaboration, innovation, and knowledge sharing by enabling creators to contribute to a global pool of resources while ensuring proper attribution and compliance with licensing terms.\n",
    "\n",
    "### HW Hack\n",
    "\n",
    "The MIT License is a permissive license with minimal restrictions, which means it allows others to freely use, modify, and distribute your code, even in proprietary software. This promotes wider adoption and collaboration on your project since developers don’t have to worry about strict compliance. It’s ideal for a personal project where you want others to contribute and freely utilize your work. It also helps you maintain control over attribution, ensuring your name and year are preserved in the project.\n",
    "\n",
    "Link to License: https://github.com/GyutaeKim1/Gyutae_2025/blob/main/LICENSE\n",
    "\n",
    "\n"
   ]
  }
 ],
 "metadata": {
  "language_info": {
   "name": "python"
  }
 },
 "nbformat": 4,
 "nbformat_minor": 2
}
