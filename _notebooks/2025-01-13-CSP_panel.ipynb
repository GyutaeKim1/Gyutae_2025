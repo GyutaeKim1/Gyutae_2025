{
 "cells": [
  {
   "cell_type": "markdown",
   "metadata": {},
   "source": [
    "---\n",
    "layout: post\n",
    "title: CSP panel\n",
    "comments: true\n",
    "---"
   ]
  },
  {
   "cell_type": "markdown",
   "metadata": {},
   "source": [
    "![IMG_3100](https://github.com/user-attachments/assets/dd3a80dd-e22c-4d63-b3ca-df52b1a9bb46)\n",
    "\n",
    "\n",
    "Gyutae\n",
    "\n",
    "## what I learned from the panel\n",
    "\n",
    "- Building skills is important because doing what I want to do is important. \n",
    "- Engineering classes are mostly project based. Communication and organization is really important because listing what I need to do lets me stay on track. I didn't really organize that much, so I need to improve on organization and communicate with my teammates. Making issues help me produce better output. \n",
    "- Flowcharts also help because I learn better with visuals than writings. \n",
    "- I learned that commenting on the code is really important. Writing comments would help me organize, understand, and find the code better. I didn't really wrote comments, so I need to write comments. \n",
    "- The college students telling us about their college experiences and their starts of the college really helped me hear about different experiences and see that they all have different experiences from a new place and that I don't need to be afraid even if I go to a new place. \n",
    "- Try to be confident\n",
    "- Do what I want to do \n",
    "- Organize organize organize!\n",
    "- I really enjoyed hearing from students who graduated two or three years before and hearing about their stories. It really affected me a lot in a way that there are things I didn't do that are important. I was missing key things like organization that Mr. Mort told us that it is important but I didn't take it seriously. I regret my actions and I learned that I need to do those things and try not to miss any words that Mr. Mort says. \n",
    "- If there is another opportunity like this, I would definitly attend it. "
   ]
  }
 ],
 "metadata": {
  "language_info": {
   "name": "python"
  }
 },
 "nbformat": 4,
 "nbformat_minor": 2
}
