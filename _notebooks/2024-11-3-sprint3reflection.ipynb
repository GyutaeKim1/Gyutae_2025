{
 "cells": [
  {
   "cell_type": "raw",
   "metadata": {
    "vscode": {
     "languageId": "raw"
    }
   },
   "source": [
    "---\n",
    "layout: post\n",
    "title: Sprint 3 Reflection\n",
    "comments: true\n",
    "---"
   ]
  },
  {
   "cell_type": "markdown",
   "metadata": {
    "vscode": {
     "languageId": "raw"
    }
   },
   "source": [
    "## Week 1"
   ]
  },
  {
   "cell_type": "markdown",
   "metadata": {},
   "source": [
    "First, we listed our ideas and created a google doc to organize our ideas.\n",
    "\n",
    "![evidence7]({{site.baseurl}}/images/evidence7.png)\n",
    "![evidence8]({{site.baseurl}}/images/evidence8.png)\n",
    "![evidence9]({{site.baseurl}}/images/evidence9.png)\n",
    "![evidence10]({{site.baseurl}}/images/evidence10.png)\n",
    "\n"
   ]
  },
  {
   "cell_type": "markdown",
   "metadata": {
    "vscode": {
     "languageId": "raw"
    }
   },
   "source": [
    "Then, I went to the Lesson before school to learn how to log in \n",
    "\n",
    "![evidence5]({{site.baseurl}}/images/evidence5.png)\n",
    "![evidence6]({{site.baseurl}}/images/evidence6.png)\n",
    "\n",
    "I had trouble loging in, so I asked peole around me. I later figured out that I didn't make .env file, that's why I couldn't log in. "
   ]
  },
  {
   "cell_type": "markdown",
   "metadata": {
    "vscode": {
     "languageId": "raw"
    }
   },
   "source": [
    "Then I signed up for postman\n",
    "\n",
    "![evidence4]({{site.baseurl}}/images/evidence4.png)\n"
   ]
  },
  {
   "cell_type": "markdown",
   "metadata": {
    "vscode": {
     "languageId": "raw"
    }
   },
   "source": [
    "We made canva poster to show our design the website visually. \n",
    "\n",
    "![evidence3]({{site.baseurl}}/images/evidence3.png)\n"
   ]
  },
  {
   "cell_type": "markdown",
   "metadata": {
    "vscode": {
     "languageId": "raw"
    }
   },
   "source": [
    "Not only that, my table worked together with other groups\n",
    "\n",
    "![evidence2]({{site.baseurl}}/images/evidence2.png)\n"
   ]
  },
  {
   "cell_type": "markdown",
   "metadata": {
    "vscode": {
     "languageId": "raw"
    }
   },
   "source": [
    "## Week 2"
   ]
  },
  {
   "cell_type": "markdown",
   "metadata": {
    "vscode": {
     "languageId": "raw"
    }
   },
   "source": [
    "Our group's progress \n",
    "\n",
    "![evidence1]({{site.baseurl}}/images/evidence1.png)\n",
    "\n",
    "We struggled to save the chat even when we reload the page. \n",
    "\n",
    "We also made like add post and post already to show how it is. \n",
    "\n",
    "![s1]({{site.baseurl}}/images/s1.png)\n",
    "![s2]({{site.baseurl}}/images/s2.png)\n",
    "![s3]({{site.baseurl}}/images/s3.png)\n",
    "\n",
    "I tried to make leaderboard, but we decided that it's too messy and we might add it later and organize it. \n",
    "\n",
    "![s4]({{site.baseurl}}/images/s4.png)\n",
    "\n"
   ]
  },
  {
   "cell_type": "markdown",
   "metadata": {
    "vscode": {
     "languageId": "raw"
    }
   },
   "source": [
    "## Week 3\n",
    "\n",
    "This week's progress. Now, the chat saves even when I reload. Locally saves. Then we made emojis and it also saves. We added post section. It is more organized. We can choose coach, player, or other roles and the message. \n",
    "\n",
    "![s5]({{site.baseurl}}/images/s5.png)\n",
    "![s6]({{site.baseurl}}/images/s6.png)\n",
    "![s7]({{site.baseurl}}/images/s7.png)\n",
    "\n"
   ]
  }
 ],
 "metadata": {
  "language_info": {
   "name": "python"
  }
 },
 "nbformat": 4,
 "nbformat_minor": 2
}
