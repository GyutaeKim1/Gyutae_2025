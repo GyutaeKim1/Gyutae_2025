{
 "cells": [
  {
   "cell_type": "markdown",
   "metadata": {},
   "source": [
    "---\n",
    "layout: post\n",
    "title: Lists and Filtering Algorithms - Gyutae KIm\n",
    "comments: true\n",
    "---"
   ]
  },
  {
   "cell_type": "markdown",
   "metadata": {},
   "source": [
    "### Popcorn Hack 1"
   ]
  },
  {
   "cell_type": "code",
   "execution_count": null,
   "metadata": {},
   "outputs": [
    {
     "name": "stdout",
     "output_type": "stream",
     "text": [
      "Updated list of movies: ['Inception', 'Pulp Fiction', 'Interstellar', 'The Matrix', 'Forrest Gump']\n"
     ]
    }
   ],
   "source": [
    "movies = [\"Inception\", \"The Dark Knight\", \"Interstellar\", \"The Matrix\"]\n",
    "\n",
    "movies[1] = \"Pulp Fiction\"\n",
    "\n",
    "movies.append(\"Forrest Gump\")\n",
    "\n",
    "print(\"Updated list of movies:\", movies)"
   ]
  },
  {
   "cell_type": "markdown",
   "metadata": {},
   "source": [
    "### Popcorn hack 2"
   ]
  },
  {
   "cell_type": "code",
   "execution_count": null,
   "metadata": {},
   "outputs": [
    {
     "name": "stdout",
     "output_type": "stream",
     "text": [
      "Ages eligible for voting: [20, 34, 18, 21, 19]\n"
     ]
    }
   ],
   "source": [
    "ages = [15, 20, 34, 16, 18, 21, 14, 19]\n",
    "\n",
    "eligible_ages = [age for age in ages if age >= 18]\n",
    "\n",
    "print(\"Ages eligible for voting:\", eligible_ages)"
   ]
  },
  {
   "cell_type": "markdown",
   "metadata": {},
   "source": [
    "### HW Hack 1\n",
    "\n",
    "Video 1: \n",
    " - Ordered Data Structure: Lists in Python maintain the order of elements, unlike sets where order is not guaranteed.\n",
    " - Indexing: Lists use zero-based indexing, meaning the first element is at index 0. Negative indices allow access to elements from the end of the list.\n",
    " - Slicing: You can retrieve a range of elements using slicing (list[start:stop]), where the start index is included, but the stop index is excluded.\n",
    " - Dynamic and Heterogeneous: Lists can contain elements of different data types (e.g., integers, strings, floats) and can grow dynamically by appending new elements.\n",
    " - Duplicate Values: Lists can contain duplicate elements, unlike sets which only store unique values.\n",
    " - Concatenation: Lists can be combined using the + operator, but the order of concatenation matters (e.g., list1 + list2 is different from list2 + list1).\n",
    "\n",
    "video 2:\n",
    " - Simplified Syntax: List comprehensions provide a concise way to create lists, often replacing longer for loops with a single line of code.\n",
    " - Readable Structure: The syntax of a list comprehension closely resembles natural language, making it easier to understand (e.g., [n * n for n in nums]).\n",
    " - Conditional Logic: List comprehensions can include conditions to filter elements (e.g., [n for n in nums if n % 2 == 0] for even numbers).\n",
    " - Nested Loops: They support nested loops, allowing the creation of more complex lists (e.g., [(letter, num) for letter in 'ABCD' for num in range(4)]).\n",
    " - Alternative to Map/Filter: List comprehensions often replace map and filter functions, offering better readability and simplicity.\n",
    " - Other Comprehensions: Similar syntax applies to dictionary comprehensions ({key: value for key, value in zip(keys, values)}), set comprehensions ({n for n in nums}), and generator expressions ((n * n for n in nums))."
   ]
  },
  {
   "cell_type": "markdown",
   "metadata": {},
   "source": [
    "### HW Hack 2"
   ]
  },
  {
   "cell_type": "code",
   "execution_count": 3,
   "metadata": {},
   "outputs": [
    {
     "name": "stdout",
     "output_type": "stream",
     "text": [
      "Original list: [1, 2, 3, 4, 5, 6, 7, 8, 9, 10, 11, 12, 13, 14, 15, 16, 17, 18, 19, 20, 21, 22, 23, 24, 25, 26, 27, 28, 29, 30]\n",
      "Filtered list (divisible by 3 but not by 5): [3, 6, 9, 12, 18, 21, 24, 27]\n"
     ]
    }
   ],
   "source": [
    "numbers = list(range(1, 31))\n",
    "\n",
    "filtered_numbers = [num for num in numbers if num % 3 == 0 and num % 5 != 0]\n",
    "\n",
    "print(\"Original list:\", numbers)\n",
    "print(\"Filtered list (divisible by 3 but not by 5):\", filtered_numbers)"
   ]
  },
  {
   "cell_type": "markdown",
   "metadata": {},
   "source": [
    "HW Hack 3"
   ]
  },
  {
   "cell_type": "code",
   "execution_count": 6,
   "metadata": {},
   "outputs": [
    {
     "name": "stdout",
     "output_type": "stream",
     "text": [
      "Songs with over 10 million streams:\n",
      "           Country        Artist                    Album      Genre  \\\n",
      "0          Germany  Taylor Swift  1989 (Taylor's Version)      K-pop   \n",
      "1           Brazil    The Weeknd              After Hours        R&B   \n",
      "2    United States   Post Malone                   Austin  Reggaeton   \n",
      "3            Italy    Ed Sheeran        Autumn Variations      K-pop   \n",
      "4            Italy    Ed Sheeran        Autumn Variations        R&B   \n",
      "..             ...           ...                      ...        ...   \n",
      "495         Brazil       Karol G       MAÑANA SERÁ BONITO       Jazz   \n",
      "496         Canada      Dua Lipa         Future Nostalgia  Classical   \n",
      "497        Germany       Karol G       MAÑANA SERÁ BONITO       Rock   \n",
      "498         Canada           SZA                      SOS      Indie   \n",
      "499         Sweden           BTS                    Proof  Reggaeton   \n",
      "\n",
      "     Release Year  Monthly Listeners (Millions)  Total Streams (Millions)  \\\n",
      "0            2019                         23.10                   3695.53   \n",
      "1            2022                         60.60                   2828.16   \n",
      "2            2023                         42.84                   1425.46   \n",
      "3            2018                         73.24                   2704.33   \n",
      "4            2023                          7.89                   3323.25   \n",
      "..            ...                           ...                       ...   \n",
      "495          2018                         18.80                   2947.97   \n",
      "496          2023                         89.68                   4418.61   \n",
      "497          2023                         36.93                   2642.90   \n",
      "498          2022                         87.26                   4320.23   \n",
      "499          2018                         89.96                   4804.15   \n",
      "\n",
      "     Total Hours Streamed (Millions)  Avg Stream Duration (Min) Platform Type  \\\n",
      "0                           14240.35                       4.28          Free   \n",
      "1                           11120.44                       3.90       Premium   \n",
      "2                            4177.49                       4.03          Free   \n",
      "3                           12024.08                       3.26       Premium   \n",
      "4                           13446.32                       4.47          Free   \n",
      "..                               ...                        ...           ...   \n",
      "495                         12642.83                       3.59       Premium   \n",
      "496                         11843.46                       3.15          Free   \n",
      "497                          8637.46                       4.08          Free   \n",
      "498                         12201.40                       2.79          Free   \n",
      "499                         12044.32                       4.03          Free   \n",
      "\n",
      "     Streams Last 30 Days (Millions)  Skip Rate (%)  \n",
      "0                             118.51           2.24  \n",
      "1                              44.87          23.98  \n",
      "2                              19.46           4.77  \n",
      "3                             166.05          25.12  \n",
      "4                             173.43          15.82  \n",
      "..                               ...            ...  \n",
      "495                            83.30          18.58  \n",
      "496                           143.96           5.82  \n",
      "497                            76.36          15.84  \n",
      "498                            84.50          13.07  \n",
      "499                            92.27          34.36  \n",
      "\n",
      "[500 rows x 12 columns]\n"
     ]
    }
   ],
   "source": [
    "import pandas as pd\n",
    "\n",
    "# Load the Spotify Global Streaming Data 2024 CSV\n",
    "data = pd.read_csv(\"Spotify_2024_Global_Streaming_Data.csv\")\n",
    "\n",
    "# Filter songs with over 10 million streams\n",
    "filtered_data = data[data[\"Total Streams (Millions)\"] > 10]\n",
    "\n",
    "# Display the filtered data\n",
    "print(\"Songs with over 10 million streams:\")\n",
    "print(filtered_data)"
   ]
  },
  {
   "cell_type": "markdown",
   "metadata": {},
   "source": [
    "### Review Question\n",
    "\n",
    "What are lists in Python, and how can they be modified?\n",
    "Lists in Python are ordered, mutable collections that can store elements of various data types. They can be modified using operations like indexing to update specific elements, appending to add new items, slicing to retrieve subsets, and concatenation to combine lists. Additional methods like sort(), reverse(), and remove() allow further manipulation.\n",
    "\n",
    "Provide a real-world scenario for a filtering algorithm.\n",
    "A filtering algorithm can be used in a music streaming platform like Spotify to identify songs with over 10 million streams. This allows the platform to create a \"Top Hits\" playlist by processing the dataset and extracting songs that meet the criteria.\n",
    "\n",
    "Why is analyzing filtering algorithm efficiency important?\n",
    "Efficient filtering algorithms are crucial for handling large datasets, ensuring fast performance and scalability. They minimize resource usage, reduce costs, and improve user experience by delivering results quickly, especially in real-time applications.\n",
    "\n"
   ]
  }
 ],
 "metadata": {
  "kernelspec": {
   "display_name": "venv",
   "language": "python",
   "name": "python3"
  },
  "language_info": {
   "codemirror_mode": {
    "name": "ipython",
    "version": 3
   },
   "file_extension": ".py",
   "mimetype": "text/x-python",
   "name": "python",
   "nbconvert_exporter": "python",
   "pygments_lexer": "ipython3",
   "version": "3.12.3"
  }
 },
 "nbformat": 4,
 "nbformat_minor": 2
}
