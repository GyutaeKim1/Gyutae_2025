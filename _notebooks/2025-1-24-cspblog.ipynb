{
 "cells": [
  {
   "cell_type": "markdown",
   "metadata": {},
   "source": [
    "---\n",
    "layout: post\n",
    "title: CSP blog\n",
    "comments: true\n",
    "---"
   ]
  },
  {
   "cell_type": "markdown",
   "metadata": {},
   "source": [
    "Purpose of your groups program\n",
    "\n",
    "The purpose of my groups program is to help club leaders and members in Del Norte High School to communicate easily through our platform. The website helps keep control and organize events, announcements, leaderships, and members. Students can also discover a club based on their interests. This will help students increase interest in joining clubs. Often, clubs don't have a place where they can communicate. Some clubs use instagram, some use group chat, and some clubs don't have one. But, with this website, all the clubs will be able to communicate on the same space. \n",
    "\n",
    "Purpose of your individual feature(s)\n",
    "\n",
    "The purpose of my individual feature is to let presidents and other leaders of a club to announce events and make events easily. For example, if there is a competition, the president simply has to type their event on the form and click create on events tab, and other members will be able to view the event. \n",
    "\n",
    "\n",
    "\n"
   ]
  }
 ],
 "metadata": {
  "language_info": {
   "name": "python"
  }
 },
 "nbformat": 4,
 "nbformat_minor": 2
}
