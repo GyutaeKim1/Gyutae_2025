{
 "cells": [
  {
   "cell_type": "markdown",
   "id": "4ae059cc",
   "metadata": {},
   "source": [
    "---\n",
    "layout: post\n",
    "title: Big O Notation and algorithm efficiency\n",
    "comments: true\n",
    "---"
   ]
  },
  {
   "cell_type": "markdown",
   "id": "65c8c9f7",
   "metadata": {},
   "source": [
    "### Popcorn Hack 1"
   ]
  },
  {
   "cell_type": "code",
   "execution_count": 3,
   "id": "9ced032e",
   "metadata": {},
   "outputs": [
    {
     "name": "stdout",
     "output_type": "stream",
     "text": [
      "O(1) Example:\n",
      "3\n",
      "\n",
      "O(n) Example:\n",
      "1\n",
      "2\n",
      "3\n",
      "4\n",
      "5\n"
     ]
    }
   ],
   "source": [
    "# Array of numbers\n",
    "arr = [1, 2, 3, 4, 5]\n",
    "\n",
    "# O(1) - Constant time: Accessing the third item\n",
    "print(\"O(1) Example:\")\n",
    "print(arr[2])  # Accessing the third item (index 2)\n",
    "\n",
    "# O(n) - Linear time: Iterating through the entire array\n",
    "print(\"\\nO(n) Example:\")\n",
    "for num in arr:\n",
    "    print(num)"
   ]
  },
  {
   "cell_type": "markdown",
   "id": "c2591ef2",
   "metadata": {},
   "source": [
    "### Popcorn Hack 2"
   ]
  },
  {
   "cell_type": "code",
   "execution_count": 4,
   "id": "28a75a0b",
   "metadata": {},
   "outputs": [
    {
     "name": "stdout",
     "output_type": "stream",
     "text": [
      "Unique Pairs:\n",
      "(1, 2)\n",
      "(1, 3)\n",
      "(2, 3)\n"
     ]
    }
   ],
   "source": [
    "def print_unique_pairs(arr):\n",
    "\n",
    "    for i in range(len(arr)):\n",
    "        for j in range(i + 1, len(arr)):\n",
    "            print(f\"({arr[i]}, {arr[j]})\")\n",
    "\n",
    "# Example usage\n",
    "arr = [1, 2, 3]\n",
    "print(\"Unique Pairs:\")\n",
    "print_unique_pairs(arr)"
   ]
  },
  {
   "cell_type": "markdown",
   "id": "ec342dbd",
   "metadata": {},
   "source": [
    "Explanation:\n",
    "\n",
    "O(n²): The function uses a nested loop where the outer loop runs n times, and the inner loop runs approximately n/2 times on average. This results in a time complexity of ( O(n \\times n) = O(n²) ). The inner loop starts at i + 1 to ensure that only unique pairs are printed, avoiding duplicates like (2, 1) when (1, 2) is already printed."
   ]
  },
  {
   "cell_type": "markdown",
   "id": "75dbd604",
   "metadata": {},
   "source": [
    "### Popcorn Hack 3\n",
    "\n",
    "1. Which of these is inefficient for large inputs?\n",
    "\n",
    "Answer: b) Factorial Time\n",
    "\n",
    "2. Which of these can be represented by a nested loop?\n",
    "\n",
    "Answer: c) Quadratic Time\n",
    "\n"
   ]
  },
  {
   "cell_type": "markdown",
   "id": "b78dcc96",
   "metadata": {},
   "source": [
    "### HW Hack"
   ]
  },
  {
   "cell_type": "code",
   "execution_count": 5,
   "id": "4f221910",
   "metadata": {},
   "outputs": [
    {
     "name": "stdout",
     "output_type": "stream",
     "text": [
      "Constant Time: 5\n",
      "\n",
      "Linear Time:\n",
      "5\n",
      "10\n",
      "15\n",
      "20\n",
      "25\n",
      "\n",
      "Quadratic Time:\n",
      "(5, 5)\n",
      "(5, 10)\n",
      "(5, 15)\n",
      "(5, 20)\n",
      "(5, 25)\n",
      "(10, 5)\n",
      "(10, 10)\n",
      "(10, 15)\n",
      "(10, 20)\n",
      "(10, 25)\n",
      "(15, 5)\n",
      "(15, 10)\n",
      "(15, 15)\n",
      "(15, 20)\n",
      "(15, 25)\n",
      "(20, 5)\n",
      "(20, 10)\n",
      "(20, 15)\n",
      "(20, 20)\n",
      "(20, 25)\n",
      "(25, 5)\n",
      "(25, 10)\n",
      "(25, 15)\n",
      "(25, 20)\n",
      "(25, 25)\n"
     ]
    }
   ],
   "source": [
    "def process_array(arr, complexity):\n",
    "    if complexity == \"constant\":\n",
    "        # O(1) - Return the first item\n",
    "        return arr[0] if arr else None\n",
    "\n",
    "    elif complexity == \"linear\":\n",
    "        # O(n) - Print all items in the array\n",
    "        for item in arr:\n",
    "            print(item)\n",
    "\n",
    "    elif complexity == \"quadratic\":\n",
    "        # O(n²) - Print all pairs of items in the array\n",
    "        for i in range(len(arr)):\n",
    "            for j in range(len(arr)):\n",
    "                print(f\"({arr[i]}, {arr[j]})\")\n",
    "\n",
    "    else:\n",
    "        return \"Invalid complexity specified.\"\n",
    "\n",
    "# Example usage\n",
    "arr = [5, 10, 15, 20, 25]\n",
    "\n",
    "# Test constant time\n",
    "print(\"Constant Time:\", process_array(arr, \"constant\"))\n",
    "\n",
    "# Test linear time\n",
    "print(\"\\nLinear Time:\")\n",
    "process_array(arr, \"linear\")\n",
    "\n",
    "# Test quadratic time\n",
    "print(\"\\nQuadratic Time:\")\n",
    "process_array(arr, \"quadratic\")"
   ]
  }
 ],
 "metadata": {
  "kernelspec": {
   "display_name": "Python 3",
   "language": "python",
   "name": "python3"
  },
  "language_info": {
   "codemirror_mode": {
    "name": "ipython",
    "version": 3
   },
   "file_extension": ".py",
   "mimetype": "text/x-python",
   "name": "python",
   "nbconvert_exporter": "python",
   "pygments_lexer": "ipython3",
   "version": "3.12.3"
  }
 },
 "nbformat": 4,
 "nbformat_minor": 5
}
