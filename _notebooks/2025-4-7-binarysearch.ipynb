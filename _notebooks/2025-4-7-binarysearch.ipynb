{
 "cells": [
  {
   "cell_type": "markdown",
   "metadata": {},
   "source": [
    "---\n",
    "layout: post\n",
    "title: Binary Search - Gyutae KIm\n",
    "comments: true\n",
    "---"
   ]
  },
  {
   "cell_type": "markdown",
   "metadata": {},
   "source": [
    "### Popcorn Hack 1\n",
    "\n",
    "c) The values in numList must be in sorted order\n",
    "\n",
    "For the binary search algorithm to work as intended, the list numList must be sorted in ascending or descending order. Binary search works by repeatedly dividing the search interval in half and comparing the middle element to the target value. If the list is not sorted, the algorithm cannot reliably determine whether the target is in the left or right half of the list, leading to incorrect results.\n",
    "\n",
    "### Popcorn Hack 2\n",
    "\n",
    "b) Binary search cannot be used on unsorted lists without modifications\n",
    "\n",
    "Binary search requires the list to be sorted in order to function correctly. If the list is unsorted, the algorithm cannot reliably determine whether the target is in the left or right half of the list, making it ineffective. \n",
    "\n",
    "### Popcorn Hack 3"
   ]
  },
  {
   "cell_type": "code",
   "execution_count": 1,
   "metadata": {
    "vscode": {
     "languageId": "javascript"
    }
   },
   "outputs": [
    {
     "name": "stdout",
     "output_type": "stream",
     "text": [
      "The index of 'c' is: 2\n"
     ]
    }
   ],
   "source": [
    "def binary_search(sorted_list, target):\n",
    "    left = 0\n",
    "    right = len(sorted_list) - 1\n",
    "\n",
    "    while left <= right:\n",
    "        mid = (left + right) // 2\n",
    "        if sorted_list[mid] == target:\n",
    "            return mid  # Return the index of the target\n",
    "        elif sorted_list[mid] < target:\n",
    "            left = mid + 1  # Search in the right half\n",
    "        else:\n",
    "            right = mid - 1  # Search in the left half\n",
    "\n",
    "    return -1  # Return -1 if the target is not found\n",
    "\n",
    "# Example usage\n",
    "sorted_list = ['a', 'b', 'c', 'd', 'e', 'f', 'g']\n",
    "target = 'c'\n",
    "result = binary_search(sorted_list, target)\n",
    "print(f\"The index of '{target}' is: {result}\")"
   ]
  },
  {
   "cell_type": "markdown",
   "metadata": {},
   "source": [
    "### HW Hack"
   ]
  },
  {
   "cell_type": "code",
   "execution_count": 4,
   "metadata": {},
   "outputs": [
    {
     "name": "stdout",
     "output_type": "stream",
     "text": [
      "First few rows of sorted data:\n",
      "        Product  Price\n",
      "5        Eraser   0.50\n",
      "14  Paper Clips   0.89\n",
      "2        Pencil   0.99\n",
      "9    Glue Stick   1.25\n",
      "1           Pen   1.50\n",
      "Original row count: 15\n",
      "Cleaned row count: 15\n",
      "Price 1.25 found at index 3.\n",
      "Price 6.49 found at index 12.\n",
      "Price 10.0 not found.\n"
     ]
    }
   ],
   "source": [
    "import pandas as pd\n",
    "\n",
    "# Load the dataset\n",
    "data = pd.read_csv(\"school_supplies.csv\")\n",
    "\n",
    "# Drop rows with missing values\n",
    "data_cleaned = data.dropna()\n",
    "\n",
    "# Sort the data by 'Price'\n",
    "data_sorted = data_cleaned.sort_values(by=\"Price\")\n",
    "\n",
    "# Extract sorted prices as a list\n",
    "price_list = data_sorted[\"Price\"].tolist()\n",
    "\n",
    "# Preview the sorted data\n",
    "print(\"First few rows of sorted data:\")\n",
    "print(data_sorted.head())\n",
    "print(\"Original row count:\", len(data))\n",
    "print(\"Cleaned row count:\", len(data_cleaned))\n",
    "\n",
    "# Binary search function\n",
    "def binary_search(sorted_list, target):\n",
    "    left = 0\n",
    "    right = len(sorted_list) - 1\n",
    "\n",
    "    while left <= right:\n",
    "        mid = (left + right) // 2\n",
    "        if sorted_list[mid] == target:\n",
    "            return mid  # Target found, return index\n",
    "        elif sorted_list[mid] < target:\n",
    "            left = mid + 1  # Search in the right half\n",
    "        else:\n",
    "            right = mid - 1  # Search in the left half\n",
    "\n",
    "    return -1  # Target not found\n",
    "\n",
    "# Prices to search for\n",
    "prices_to_search = [1.25, 6.49, 10.00]\n",
    "\n",
    "# Search for each price and print results\n",
    "for price in prices_to_search:\n",
    "    result = binary_search(price_list, price)\n",
    "    if result != -1:\n",
    "        print(f\"Price {price} found at index {result}.\")\n",
    "    else:\n",
    "        print(f\"Price {price} not found.\")\n",
    "\n"
   ]
  },
  {
   "cell_type": "markdown",
   "metadata": {},
   "source": [
    "\n",
    "1. The dataset is loaded using Pandas and cleaned by dropping rows with missing values.\n",
    "2. The data is sorted by the 'Price' column to prepare it for binary search.\n",
    "3. The sorted 'Price' column is extracted as a list for efficient searching.\n",
    "4. A binary search function is implemented to find specific prices in the sorted list.\n",
    "5. The function searches for the prices 1.25, 6.49, and 10.00, and prints whether each price was found or not."
   ]
  }
 ],
 "metadata": {
  "kernelspec": {
   "display_name": "venv",
   "language": "python",
   "name": "python3"
  },
  "language_info": {
   "codemirror_mode": {
    "name": "ipython",
    "version": 3
   },
   "file_extension": ".py",
   "mimetype": "text/x-python",
   "name": "python",
   "nbconvert_exporter": "python",
   "pygments_lexer": "ipython3",
   "version": "3.12.3"
  }
 },
 "nbformat": 4,
 "nbformat_minor": 2
}
