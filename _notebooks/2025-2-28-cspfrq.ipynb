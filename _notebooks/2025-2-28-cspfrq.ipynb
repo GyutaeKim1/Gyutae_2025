{
 "cells": [
  {
   "cell_type": "markdown",
   "metadata": {},
   "source": [
    "---\n",
    "layout: post\n",
    "title: FRQ questions\n",
    "comments: true\n",
    "---\n"
   ]
  },
  {
   "cell_type": "markdown",
   "metadata": {},
   "source": [
    "# FRQ questions Review"
   ]
  },
  {
   "cell_type": "markdown",
   "metadata": {},
   "source": [
    "## Procedure: "
   ]
  },
  {
   "cell_type": "code",
   "execution_count": null,
   "metadata": {},
   "outputs": [],
   "source": [
    "def update(self, data):\n",
    "    \"\"\"\n",
    "    Updates the event with new data.\n",
    "    \"\"\"\n",
    "    for key, value in data.items():  \n",
    "        if hasattr(self, key):  \n",
    "            if key == 'date' and isinstance(value, str):  \n",
    "                value = datetime.strptime(value, '%Y-%m-%d').date()  \n",
    "            setattr(self, key, value)  \n",
    "\n",
    "    try:\n",
    "        db.session.commit() \n",
    "    except IntegrityError as e:\n",
    "        db.session.rollback() \n",
    "        logging.warning(f\"IntegrityError: Could not update event '{self.title}' due to {str(e)}.\")\n",
    "        return None\n",
    "    return self  # Return the updated event\n"
   ]
  },
  {
   "cell_type": "markdown",
   "metadata": {},
   "source": [
    "1. Defines the procedure’s name and return type (if necessary):\n",
    "\n",
    "    - Procedure Name: update is the name of the procedure.\n",
    "    - Return Type: It returns self (the updated event object), which suggests the return type is an Event object (or None if there's an error).\n",
    "\n",
    "2. Contains and uses one or more parameters that have an effect on the functionality of the procedure:\n",
    "\n",
    "    - Parameters: The parameter data is passed to the update method. This dictionary contains key-value pairs representing the fields and values to be updated in the Event object.\n",
    "\n",
    "    - Effect on Functionality: The data parameter is central to the update operation iterates through the dictionary and updates the object.\n",
    "\n",
    "\n",
    "3. Implements an algorithm that includes sequencing, selection, and iteration:\n",
    "\n",
    "    - Sequencing: The code follows a step-by-step approach where it first checks each key in data, updates the corresponding attribute of the Event object, and then commits the changes to the database.\n",
    "    - Selection: The if hasattr(self, key) is a selection operation. It checks if the Event object has the attribute corresponding to the current key before attempting to update it.\n",
    "    - Iteration: The for key, value in data.items() is an iteration. The code loops over all the key-value pairs in the data dictionary, which means iteration is being used here.\n",
    "\n"
   ]
  },
  {
   "cell_type": "code",
   "execution_count": null,
   "metadata": {},
   "outputs": [],
   "source": [
    "updated_event = event.update(data)\n"
   ]
  },
  {
   "cell_type": "markdown",
   "metadata": {},
   "source": [
    "- the update method is being called when the put endpoint is triggered, and it performs the update logic on the event record. If the update is successful, the updated event is returned in the response. If there's an error, it returns a message indicating the failure.\n",
    "-  calls the update method to modify the event object based on the provided data and handles the result accordingly."
   ]
  },
  {
   "cell_type": "markdown",
   "metadata": {},
   "source": [
    "## List"
   ]
  },
  {
   "cell_type": "code",
   "execution_count": null,
   "metadata": {},
   "outputs": [],
   "source": [
    "def initEvents(): \n",
    "    \"\"\"\n",
    "    Initializes the Events table with test data.\n",
    "    \"\"\"\n",
    "    with app.app_context():\n",
    "        db.create_all() \n",
    "        events = [ # creates a list of Event objects\n",
    "            Event(title='Tech Conference', description='A conference about the latest in technology.', date='2025-05-20'),\n",
    "            Event(title='Music Festival', description='A festival featuring various music artists.', date='2025-06-15'),\n",
    "            Event(title='Art Expo', description='An expo showcasing modern art.', date='2025-07-10'),\n",
    "        ]\n",
    "        for event in events: \n",
    "            try:\n",
    "                event.create()\n",
    "                print(f\"Record created: {repr(event)}\")\n",
    "            except IntegrityError as e:\n",
    "                db.session.rollback()\n",
    "                print(f\"Records exist or duplicate error: {event.title}, {str(e)}\")"
   ]
  },
  {
   "cell_type": "markdown",
   "metadata": {},
   "source": [
    "This segment stores multiple Event objects in a list, satisfying the first requirement.\n",
    "\n"
   ]
  },
  {
   "cell_type": "code",
   "execution_count": null,
   "metadata": {},
   "outputs": [],
   "source": [
    "@custom_cli.command('generate_data')\n",
    "def generate_data():\n",
    "    initEvents()"
   ]
  },
  {
   "cell_type": "markdown",
   "metadata": {},
   "source": [
    "- It retrieves data from the list (initEvents()).\n",
    "- It processes the list data by printing each event."
   ]
  },
  {
   "cell_type": "markdown",
   "metadata": {},
   "source": [
    "## Explain how you used or could have used feedback, testing, or reflection in the development of your program.\n",
    "\n",
    "1. Feedback: Improving Based on User feedbacks\n",
    "\n",
    "    - Feedback from N@tm suggested better frontend / the purpose is minimal\n",
    "    - improvements like adding event descriptions and filtering events by date.\n",
    "    - ensuring presidents could only modify their own events.\n",
    "    - Ensure that an event cannot be created without a title, description, or date.\n",
    "\n",
    "2. Testing: Ensuring Functionality and usefulness\n",
    "\n",
    "    - testing CRUD functions using postman\n",
    "    - On deployed website, I checked with my friend if they can see what I typed on my conputer\n",
    "    - I asked my friends if my feature looked okay.\n",
    "    - I tested with using president account and user account to see if only president can add the events, edit, and delete.\n",
    "\n",
    "    How Testing Improved the Code:\n",
    "\n",
    "    - Identified and fixed issues where event updates failed due to improper data formatting.\n",
    "    - Added better error messages when events were not found or when duplicate events were attempted.\n",
    "    - Strengthened security by restricting event modifications to the event creator / president only.\n",
    "\n",
    "3. Reflection: Enhancing Future Development\n",
    "\n",
    "    - After completing the initial version of the club events feature, I reflected on ways to improve efficiency and user experience\n",
    "    - After testing, I realized that navigating between clubs and their events could be smoother. I plan to improve the UI with better navigation.\n",
    "    - I considered future scalability—how the event system could support larger clubs or even public events outside clubs.\n",
    "\n",
    "4. Iterative Development: Making Continuous Improvements\n",
    "    \n",
    "    - I made so that instead of typing the club, club leader automatically gets to choose an option instead of typing it\n",
    "    - I added dates and description for events \n",
    "    - I added authentication to backend so only event creater can edit or delete it. \n",
    "    - I also added dots to the calender when there is an event that day"
   ]
  },
  {
   "cell_type": "markdown",
   "metadata": {},
   "source": [
    "## Describe the problem that your program was created to address or the creative expression it pursues.\n",
    "\n",
    "- The Club Events Feature was developed to address the lack of organization and engagement in club-related activities. Many clubs struggle with effectively planning and managing events, leading to low participation and miscommunication among members. \n",
    "- So, by using club events, I hope to let club leaders help label different events in one space to make club members easier to see the announcements or events\n",
    "- the feature increases club engagement and encourages active participation."
   ]
  },
  {
   "cell_type": "markdown",
   "metadata": {},
   "source": [
    "# Refer to your Personalized Project Reference when answering this question.\n",
    "\n",
    "1. Consider the first conditional statement included in the Procedure section of your Personalized Project Reference. Write an equivalent Boolean expression for this conditional statement.\n",
    "\n",
    "The first conditional statement in the given function is:\n",
    "\n",
    "``` python\n",
    "if hasattr(self, key):\n",
    "```\n",
    "\n",
    "Equivalent Boolean Expression:\n",
    "\n",
    "This checks if the object (self) has an attribute with the name specified by key. The equivalent Boolean expression can be written as:\n",
    "\n",
    "```python\n",
    "key in dir(self)\n",
    "```\n",
    "- hasattr(self, key): This function returns True if the attribute key exists in the object self, otherwise False.\n",
    "- key in dir(self): The dir(self) function returns a list of all attributes and methods of self, and checking if key is in this list achieves the same purpose as hasattr(self, key).\n",
    "\n",
    "2. The procedure solves the subproblem of updating event information in the Club Hub system. The subproblem is modifying event details like the title, description, or date without creating a new event. This allows users to edit existing events instead of deleting and making a new one. The procedure breaks down the update process into smaller tasks by checking each attribute individually.\n",
    "\n",
    "3. The function initEvents() is responsible for initializing an Events table with test data. It performs the following key tasks: Ensures the database table exists, Creates a list of predefined event records, and Iterates through each event and attempts to insert it into the database.\n",
    "\n",
    "\n"
   ]
  }
 ],
 "metadata": {
  "language_info": {
   "name": "python"
  }
 },
 "nbformat": 4,
 "nbformat_minor": 2
}
