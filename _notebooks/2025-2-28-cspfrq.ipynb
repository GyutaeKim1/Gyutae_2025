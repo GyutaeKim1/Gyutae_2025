{
 "cells": [
  {
   "cell_type": "markdown",
   "metadata": {},
   "source": [
    "---\n",
    "layout: post\n",
    "title: FRQ / Project Feature blog write up\n",
    "comments: true\n",
    "---\n"
   ]
  },
  {
   "cell_type": "markdown",
   "metadata": {},
   "source": [
    "# FRQ questions Review"
   ]
  },
  {
   "cell_type": "code",
   "execution_count": null,
   "metadata": {},
   "outputs": [],
   "source": [
    "def update(self, data):\n",
    "    \"\"\"\n",
    "    Updates the event with new data.\n",
    "    \"\"\"\n",
    "    for key, value in data.items():  # Iteration: Loop through data keys\n",
    "        if hasattr(self, key):  # Selection: Check if attribute exists in the Event object\n",
    "            if key == 'date' and isinstance(value, str):  \n",
    "                value = datetime.strptime(value, '%Y-%m-%d').date()  # Convert date string to date object\n",
    "            setattr(self, key, value)  # Update the attribute with the new value\n",
    "\n",
    "    try:\n",
    "        db.session.commit()  # Save changes to the database\n",
    "    except IntegrityError as e:\n",
    "        db.session.rollback()  # Rollback if there's an error\n",
    "        logging.warning(f\"IntegrityError: Could not update event '{self.title}' due to {str(e)}.\")\n",
    "        return None\n",
    "    return self  # Return the updated event\n"
   ]
  },
  {
   "cell_type": "markdown",
   "metadata": {},
   "source": [
    "This code is an example of sequencing, iteration, and selection\n",
    "\n",
    "Sequencing: Sequencing means executing steps in a logical order, where each step depends on the previous ones.\n",
    "\n",
    "1. Loop through provided data (for key, value in data.items())\n",
    "\n",
    "This ensures that each key-value pair in the data dictionary is processed.\n",
    "2. Check if the event object has the attribute (if hasattr(self, key))\n",
    "3. Update the event attribute (setattr(self, key, value))\n",
    "4. Handle database errors with exception handling (except IntegrityError as e)\n",
    "5. Return the updated event object (return self)\n",
    "\n",
    "Selection: Uses if and try-except to show different outcomes occur depending on whether conditions are True or False.\n",
    "\n",
    "Iteration: For each data, it is goin to run the procedure in loop (for key, value in data.items())\n",
    "\n",
    "Contains and uses one or more parameters that have an effect on the functionality of the procedure: \n",
    "\n",
    "\n",
    "\n"
   ]
  }
 ],
 "metadata": {
  "language_info": {
   "name": "python"
  }
 },
 "nbformat": 4,
 "nbformat_minor": 2
}
