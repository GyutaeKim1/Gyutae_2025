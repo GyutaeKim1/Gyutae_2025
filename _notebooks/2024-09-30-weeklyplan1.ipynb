{
 "cells": [
  {
   "cell_type": "raw",
   "metadata": {
    "vscode": {
     "languageId": "raw"
    }
   },
   "source": [
    "---\n",
    "layout: post\n",
    "title: WeeklyPlan1\n",
    "permalink: /weeklyplan1/sprint2\n",
    "toc: true\n",
    "comments: true\n",
    "---"
   ]
  },
  {
   "cell_type": "markdown",
   "metadata": {},
   "source": [
    "This week, I want to start on my group presentation. "
   ]
  },
  {
   "cell_type": "markdown",
   "metadata": {},
   "source": [
    "# Monday \n",
    "\n",
    "Start list things I have to add to my presentation. \n",
    "\n",
    "3.6 \n",
    "\n",
    "- conditionals\n",
    "- example 1 (python and js)\n",
    "- example 2 (python and js)\n",
    "- example 3 (python and js)\n",
    "- hw hack\n",
    "- quiz \n",
    "- solution\n",
    "\n",
    "\n",
    "3.7\n",
    "\n",
    "\n",
    "- nested conditionals\n",
    "- conditionals\n",
    "- pseudocode\n",
    "- example 1 (python and js)\n",
    "- example 2 (python and js)\n",
    "- example 3 (python and js)\n",
    "- hw hack\n",
    "- solution\n",
    "\n",
    "-----------------------------------------------------------------------"
   ]
  },
  {
   "cell_type": "markdown",
   "metadata": {
    "vscode": {
     "languageId": "raw"
    }
   },
   "source": [
    "## Tuesday, Wednesday, Thursday, Friday\n",
    "\n",
    "- Make slides\n",
    "- Pull request\n",
    "- start adding examples to 3.6 and 3.7\n",
    "- make quiz\n",
    "- make lesson\n",
    "- define each terms/vocab\n",
    "- make solution"
   ]
  }
 ],
 "metadata": {
  "language_info": {
   "name": "python"
  }
 },
 "nbformat": 4,
 "nbformat_minor": 2
}
