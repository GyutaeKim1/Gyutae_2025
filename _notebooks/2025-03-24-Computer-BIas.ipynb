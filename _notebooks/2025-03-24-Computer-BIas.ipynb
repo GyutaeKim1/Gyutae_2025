{
 "cells": [
  {
   "cell_type": "markdown",
   "metadata": {},
   "source": [
    "---\n",
    "layout: post\n",
    "title: Computer Bias - Gyutae KIm\n",
    "comments: true\n",
    "---"
   ]
  },
  {
   "cell_type": "markdown",
   "metadata": {},
   "source": [
    "### Popcorn Hack 1:\n",
    "\n",
    "politians are biased because they say things that benefits their party and what their supporters would like to hear. \n",
    "\n",
    "### popcorn Hack 2: \n",
    "\n",
    "I was trying to change a setting on my phone, but it didn't work as expected. The interface was confusing, and I couldn't find the option I needed, which made me feel frustrated and helpless. To improve this, the technology could include a more intuitive design and a comprehensive help guide to assist users in navigating the settings more easily.\n",
    "\n",
    "\n",
    "### Popcorn Hack 3: \n",
    "\n",
    "Bias could sneak into a fitness tracking app's recommendations or performance evaluations by not accounting for users with different physical abilities, ages, or health conditions, leading to unrealistic goals or discouraging feedback. To prevent this, it could include personalized settings that allow users to input their specific health conditions and fitness levels\n",
    "\n",
    "### HW Hack:\n",
    "\n",
    "I regularly use a streaming service for watching movies and TV shows. I've noticed that the recommendations often favor popular mainstream content and don't cater well to different user groups, such as those who prefer international films or genres. This bias might be caused by the algorithm prioritizing content with higher engagement metrics and a lack of diverse testing. To reduce bias and make the platform more inclusive, developers could incorporate user preferences more effectively by allowing users to specify their interests and providing a wider range of recommendations based on those inputs."
   ]
  }
 ],
 "metadata": {
  "language_info": {
   "name": "python"
  }
 },
 "nbformat": 4,
 "nbformat_minor": 2
}
